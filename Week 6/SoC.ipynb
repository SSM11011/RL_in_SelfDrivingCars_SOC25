{
 "cells": [
  {
   "cell_type": "code",
   "execution_count": 1,
   "id": "48c9fbfb",
   "metadata": {},
   "outputs": [],
   "source": [
    "import gymnasium as gym\n",
    "import highway_env\n",
    "import numpy as np\n",
    "import matplotlib.pyplot as plt\n",
    "from pprint import pprint\n",
    "from datetime import datetime\n",
    "import os\n",
    "\n",
    "from stable_baselines3 import PPO\n",
    "from stable_baselines3.common.monitor import Monitor\n",
    "from stable_baselines3.common.callbacks import BaseCallback"
   ]
  },
  {
   "cell_type": "code",
   "execution_count": 2,
   "id": "e33b11fc",
   "metadata": {},
   "outputs": [
    {
     "name": "stdout",
     "output_type": "stream",
     "text": [
      "Observation space: Box(-inf, inf, (5, 5), float32)\n",
      "Action space: Discrete(5)\n",
      "Observation shape: (5, 5)\n",
      "Observation dtype: float32\n",
      "Observation shape: (5, 5)\n",
      "Min values: -0.042786940932273865\n",
      "Max values: 1.0\n",
      "Mean values: 0.3748089671134949\n"
     ]
    }
   ],
   "source": [
    "env = gym.make(\"highway-v0\", render_mode=\"rgb_array\")\n",
    "obs, info = env.reset()\n",
    "\n",
    "print(f\"Observation space: {env.observation_space}\")\n",
    "print(f\"Action space: {env.action_space}\")\n",
    "print(f\"Observation shape: {obs.shape}\")\n",
    "print(f\"Observation dtype: {obs.dtype}\")\n",
    "\n",
    "print(f\"Observation shape: {obs.shape}\")\n",
    "print(f\"Min values: {np.min(obs, axis=(0,1))}\")\n",
    "print(f\"Max values: {np.max(obs, axis=(0,1))}\")\n",
    "print(f\"Mean values: {np.mean(obs, axis=(0,1))}\")"
   ]
  },
  {
   "cell_type": "code",
   "execution_count": 3,
   "id": "6d0941bc",
   "metadata": {},
   "outputs": [
    {
     "name": "stdout",
     "output_type": "stream",
     "text": [
      "Step 1: Action=2, Reward=0.821, Terminated=False, Truncated=False\n",
      "Step 2: Action=4, Reward=0.712, Terminated=False, Truncated=False\n",
      "Step 3: Action=0, Reward=0.669, Terminated=False, Truncated=False\n",
      "Step 4: Action=3, Reward=0.778, Terminated=False, Truncated=False\n",
      "Step 5: Action=1, Reward=0.796, Terminated=False, Truncated=False\n",
      "Step 6: Action=4, Reward=0.689, Terminated=False, Truncated=False\n",
      "Step 7: Action=4, Reward=0.670, Terminated=False, Truncated=False\n",
      "Step 8: Action=1, Reward=0.667, Terminated=False, Truncated=False\n",
      "Step 9: Action=4, Reward=0.667, Terminated=False, Truncated=False\n",
      "Step 10: Action=1, Reward=0.667, Terminated=False, Truncated=False\n",
      "Total reward after random actions: 7.135\n"
     ]
    }
   ],
   "source": [
    "total_reward = 0\n",
    "for step in range(10):\n",
    "    action = env.action_space.sample()\n",
    "    obs, reward, terminated, truncated, info = env.step(action)\n",
    "    total_reward += reward\n",
    "    \n",
    "    print(f\"Step {step+1}: Action={action}, Reward={reward:.3f}, \"\n",
    "            f\"Terminated={terminated}, Truncated={truncated}\")\n",
    "    \n",
    "    if terminated or truncated:\n",
    "        print(\"Episode ended, resetting...\")\n",
    "        obs, info = env.reset()\n",
    "        break\n",
    "\n",
    "print(f\"Total reward after random actions: {total_reward:.3f}\")"
   ]
  },
  {
   "cell_type": "code",
   "execution_count": 4,
   "id": "c6f96f57",
   "metadata": {},
   "outputs": [
    {
     "name": "stdout",
     "output_type": "stream",
     "text": [
      "{'action': {'type': 'DiscreteMetaAction'},\n",
      " 'centering_position': [0.3, 0.5],\n",
      " 'collision_reward': -1,\n",
      " 'controlled_vehicles': 1,\n",
      " 'duration': 40,\n",
      " 'ego_spacing': 2,\n",
      " 'high_speed_reward': 0.4,\n",
      " 'initial_lane_id': None,\n",
      " 'lane_change_reward': 0,\n",
      " 'lanes_count': 4,\n",
      " 'manual_control': False,\n",
      " 'normalize_reward': True,\n",
      " 'observation': {'type': 'Kinematics'},\n",
      " 'offroad_terminal': False,\n",
      " 'offscreen_rendering': False,\n",
      " 'other_vehicles_type': 'highway_env.vehicle.behavior.IDMVehicle',\n",
      " 'policy_frequency': 1,\n",
      " 'real_time_rendering': False,\n",
      " 'render_agent': True,\n",
      " 'reward_speed_range': [20, 30],\n",
      " 'right_lane_reward': 0.1,\n",
      " 'scaling': 5.5,\n",
      " 'screen_height': 150,\n",
      " 'screen_width': 600,\n",
      " 'show_trajectories': False,\n",
      " 'simulation_frequency': 15,\n",
      " 'vehicles_count': 50,\n",
      " 'vehicles_density': 1}\n"
     ]
    }
   ],
   "source": [
    "config = env.unwrapped.config\n",
    "pprint(dict(config))"
   ]
  },
  {
   "cell_type": "code",
   "execution_count": 5,
   "id": "b85744c5",
   "metadata": {},
   "outputs": [
    {
     "name": "stdout",
     "output_type": "stream",
     "text": [
      "Rendered frame shape: (150, 600, 3)\n"
     ]
    }
   ],
   "source": [
    "frame = env.render()\n",
    "print(f\"Rendered frame shape: {frame.shape}\")"
   ]
  },
  {
   "cell_type": "code",
   "execution_count": 6,
   "id": "bd0c617e",
   "metadata": {},
   "outputs": [
    {
     "name": "stdout",
     "output_type": "stream",
     "text": [
      "Saved rendered frame as 'highway_env_frame.png'\n"
     ]
    },
    {
     "data": {
      "image/png": "[encoded data removed]",
      "text/plain": [
       "<Figure size 1200x600 with 1 Axes>"
      ]
     },
     "metadata": {},
     "output_type": "display_data"
    }
   ],
   "source": [
    "# Save the rendered frame\n",
    "plt.figure(figsize=(12, 6))\n",
    "plt.imshow(frame)\n",
    "plt.title(\"Highway-v0 Environment\")\n",
    "plt.axis('off')\n",
    "plt.tight_layout()\n",
    "plt.savefig('highway_env_frame.png', dpi=150, bbox_inches='tight')\n",
    "print(\"Saved rendered frame as 'highway_env_frame.png'\")\n",
    "\n",
    "env.close()"
   ]
  },
  {
   "cell_type": "code",
   "execution_count": 7,
   "id": "1a170898",
   "metadata": {},
   "outputs": [
    {
     "name": "stdout",
     "output_type": "stream",
     "text": [
      "Merge environment observation space: Box(-inf, inf, (5, 5), float32)\n",
      "Merge environment action space: Discrete(5)\n",
      "Merge observation shape: (5, 5)\n",
      "Saved merge environment frame as 'merge_env_frame.png'\n"
     ]
    },
    {
     "data": {
      "image/png": "[encoded data removed]",
      "text/plain": [
       "<Figure size 1200x600 with 1 Axes>"
      ]
     },
     "metadata": {},
     "output_type": "display_data"
    }
   ],
   "source": [
    "env = gym.make(\"merge-v0\", render_mode=\"rgb_array\")\n",
    "obs, info = env.reset()\n",
    "\n",
    "print(f\"Merge environment observation space: {env.observation_space}\")\n",
    "print(f\"Merge environment action space: {env.action_space}\")\n",
    "print(f\"Merge observation shape: {obs.shape}\")\n",
    "\n",
    "# Render merge environment\n",
    "frame = env.render()\n",
    "plt.figure(figsize=(12, 6))\n",
    "plt.imshow(frame)\n",
    "plt.title(\"Merge-v0 Environment\")\n",
    "plt.axis('off')\n",
    "plt.tight_layout()\n",
    "plt.savefig('merge_env_frame.png', dpi=150, bbox_inches='tight')\n",
    "print(\"Saved merge environment frame as 'merge_env_frame.png'\")\n",
    "\n",
    "env.close()"
   ]
  },
  {
   "cell_type": "code",
   "execution_count": 8,
   "id": "9191b5fd",
   "metadata": {},
   "outputs": [],
   "source": [
    "env = gym.make(\"highway-v0\", render_mode=\"rgb_array\")\n",
    "    \n",
    "config = {\n",
    "    \"observation\": {\n",
    "        \"type\": \"Kinematics\",\n",
    "        \"vehicles_count\": 5,\n",
    "        \"features\": [\"presence\", \"x\", \"y\", \"vx\", \"vy\"],\n",
    "        \"normalize\": True\n",
    "    },\n",
    "    \"lanes_count\": 2,\n",
    "    \"vehicles_count\": 10,\n",
    "    \"duration\": 10,\n",
    "    \"collision_reward\": -1,\n",
    "    \"reward_speed_range\": [20, 30],\n",
    "}\n",
    "\n",
    "env.unwrapped.configure(config)"
   ]
  },
  {
   "cell_type": "code",
   "execution_count": 9,
   "id": "8b41c6de",
   "metadata": {},
   "outputs": [],
   "source": [
    "class QuickMetricsCallback(BaseCallback):\n",
    "    \"\"\"\n",
    "    Simplified callback for quick training demo\n",
    "    \"\"\"\n",
    "    def __init__(self, verbose=1):\n",
    "        super(QuickMetricsCallback, self).__init__(verbose)\n",
    "        self.episode_rewards = []\n",
    "        self.episode_lengths = []\n",
    "        self.episode_crashes = []\n",
    "        \n",
    "    def _on_step(self) -> bool:\n",
    "        if len(self.locals.get('infos', [])) > 0:\n",
    "            for info in self.locals['infos']:\n",
    "                if 'episode' in info:\n",
    "                    self.episode_rewards.append(info['episode']['r'])\n",
    "                    self.episode_lengths.append(info['episode']['l'])\n",
    "                    crashed = info.get('crashed', False)\n",
    "                    self.episode_crashes.append(1 if crashed else 0)\n",
    "                    if len(self.episode_rewards) % 100 == 0:\n",
    "                        recent_reward = np.mean(self.episode_rewards[-2:])\n",
    "                        recent_crashes = np.mean(self.episode_crashes[-2:]) * 100\n",
    "                        print(f\"Episode {len(self.episode_rewards):3d} | Reward: {recent_reward:6.2f} | Crash Rate: {recent_crashes:4.1f}%\")\n",
    "        return True"
   ]
  },
  {
   "cell_type": "code",
   "execution_count": 10,
   "id": "c9d8cffe",
   "metadata": {},
   "outputs": [
    {
     "name": "stdout",
     "output_type": "stream",
     "text": [
      "Using cpu device\n",
      "Wrapping the env in a DummyVecEnv.\n"
     ]
    }
   ],
   "source": [
    "monitor_dir = f\"./quick_monitor_{datetime.now().strftime('%H%M%S')}\"\n",
    "env = Monitor(env, monitor_dir)\n",
    "\n",
    "model = PPO(\n",
    "    \"MlpPolicy\",\n",
    "    env,\n",
    "    device=\"cpu\",\n",
    "    learning_rate=1e-3,\n",
    "    n_steps=128,\n",
    "    batch_size=16,\n",
    "    n_epochs=2,\n",
    "    gamma=0.98,\n",
    "    gae_lambda=0.90,\n",
    "    clip_range=0.2,\n",
    "    ent_coef=0.01,\n",
    "    verbose=1000,\n",
    "    policy_kwargs=dict(net_arch=[32, 32])\n",
    ")"
   ]
  },
  {
   "cell_type": "code",
   "execution_count": 11,
   "id": "cdb9cb84",
   "metadata": {},
   "outputs": [],
   "source": [
    "episode_rewards = []\n",
    "episode_lengths = []\n",
    "episode_crashes = []"
   ]
  },
  {
   "cell_type": "code",
   "execution_count": 12,
   "id": "5e5084ad",
   "metadata": {},
   "outputs": [
    {
     "data": {
      "application/vnd.jupyter.widget-view+json": {
       "model_id": "5492624e92d048b6b6001dcbb725748d",
       "version_major": 2,
       "version_minor": 0
      },
      "text/plain": [
       "Output()"
      ]
     },
     "metadata": {},
     "output_type": "display_data"
    },
    {
     "name": "stdout",
     "output_type": "stream",
     "text": [
      "---------------------------------\n",
      "| rollout/           |          |\n",
      "|    ep_len_mean     | 6.63     |\n",
      "|    ep_rew_mean     | 4.76     |\n",
      "| time/              |          |\n",
      "|    fps             | 35       |\n",
      "|    iterations      | 1        |\n",
      "|    time_elapsed    | 3        |\n",
      "|    total_timesteps | 128      |\n",
      "---------------------------------\n"
     ]
    },
    {
     "name": "stdout",
     "output_type": "stream",
     "text": [
      "------------------------------------------\n",
      "| rollout/                |              |\n",
      "|    ep_len_mean          | 6.56         |\n",
      "|    ep_rew_mean          | 4.79         |\n",
      "| time/                   |              |\n",
      "|    fps                  | 30           |\n",
      "|    iterations           | 2            |\n",
      "|    time_elapsed         | 8            |\n",
      "|    total_timesteps      | 256          |\n",
      "| train/                  |              |\n",
      "|    approx_kl            | 0.0015659896 |\n",
      "|    clip_fraction        | 0            |\n",
      "|    clip_range           | 0.2          |\n",
      "|    entropy_loss         | -1.61        |\n",
      "|    explained_variance   | 0.019        |\n",
      "|    learning_rate        | 0.001        |\n",
      "|    loss                 | 1.58         |\n",
      "|    n_updates            | 2            |\n",
      "|    policy_gradient_loss | -0.0038      |\n",
      "|    value_loss           | 4.86         |\n",
      "------------------------------------------\n"
     ]
    },
    {
     "name": "stdout",
     "output_type": "stream",
     "text": [
      "-------------------------------------------\n",
      "| rollout/                |               |\n",
      "|    ep_len_mean          | 6.91          |\n",
      "|    ep_rew_mean          | 5.06          |\n",
      "| time/                   |               |\n",
      "|    fps                  | 32            |\n",
      "|    iterations           | 3             |\n",
      "|    time_elapsed         | 11            |\n",
      "|    total_timesteps      | 384           |\n",
      "| train/                  |               |\n",
      "|    approx_kl            | 0.00042209728 |\n",
      "|    clip_fraction        | 0             |\n",
      "|    clip_range           | 0.2           |\n",
      "|    entropy_loss         | -1.61         |\n",
      "|    explained_variance   | 0.0521        |\n",
      "|    learning_rate        | 0.001         |\n",
      "|    loss                 | 1.38          |\n",
      "|    n_updates            | 4             |\n",
      "|    policy_gradient_loss | -0.00179      |\n",
      "|    value_loss           | 3.82          |\n",
      "-------------------------------------------\n"
     ]
    },
    {
     "name": "stdout",
     "output_type": "stream",
     "text": [
      "------------------------------------------\n",
      "| rollout/                |              |\n",
      "|    ep_len_mean          | 7.1          |\n",
      "|    ep_rew_mean          | 5.19         |\n",
      "| time/                   |              |\n",
      "|    fps                  | 33           |\n",
      "|    iterations           | 4            |\n",
      "|    time_elapsed         | 15           |\n",
      "|    total_timesteps      | 512          |\n",
      "| train/                  |              |\n",
      "|    approx_kl            | 0.0017904956 |\n",
      "|    clip_fraction        | 0            |\n",
      "|    clip_range           | 0.2          |\n",
      "|    entropy_loss         | -1.6         |\n",
      "|    explained_variance   | -0.0125      |\n",
      "|    learning_rate        | 0.001        |\n",
      "|    loss                 | 1.82         |\n",
      "|    n_updates            | 6            |\n",
      "|    policy_gradient_loss | -0.00769     |\n",
      "|    value_loss           | 4.59         |\n",
      "------------------------------------------\n"
     ]
    },
    {
     "name": "stdout",
     "output_type": "stream",
     "text": [
      "------------------------------------------\n",
      "| rollout/                |              |\n",
      "|    ep_len_mean          | 7.18         |\n",
      "|    ep_rew_mean          | 5.26         |\n",
      "| time/                   |              |\n",
      "|    fps                  | 33           |\n",
      "|    iterations           | 5            |\n",
      "|    time_elapsed         | 18           |\n",
      "|    total_timesteps      | 640          |\n",
      "| train/                  |              |\n",
      "|    approx_kl            | 0.0065409155 |\n",
      "|    clip_fraction        | 0            |\n",
      "|    clip_range           | 0.2          |\n",
      "|    entropy_loss         | -1.58        |\n",
      "|    explained_variance   | -0.0136      |\n",
      "|    learning_rate        | 0.001        |\n",
      "|    loss                 | 2.63         |\n",
      "|    n_updates            | 8            |\n",
      "|    policy_gradient_loss | -0.00631     |\n",
      "|    value_loss           | 5.23         |\n",
      "------------------------------------------\n"
     ]
    },
    {
     "data": {
      "text/html": [
       "<pre style=\"white-space:pre;overflow-x:auto;line-height:normal;font-family:Menlo,'DejaVu Sans Mono',consolas,'Courier New',monospace\">Episode 100 | Reward:   7.01 | Crash Rate: 50.0%\n",
       "</pre>\n"
      ],
      "text/plain": [
       "Episode 100 | Reward:   7.01 | Crash Rate: 50.0%\n"
      ]
     },
     "metadata": {},
     "output_type": "display_data"
    },
    {
     "name": "stdout",
     "output_type": "stream",
     "text": [
      "-----------------------------------------\n",
      "| rollout/                |             |\n",
      "|    ep_len_mean          | 7.4         |\n",
      "|    ep_rew_mean          | 5.41        |\n",
      "| time/                   |             |\n",
      "|    fps                  | 34          |\n",
      "|    iterations           | 6           |\n",
      "|    time_elapsed         | 22          |\n",
      "|    total_timesteps      | 768         |\n",
      "| train/                  |             |\n",
      "|    approx_kl            | 0.006494027 |\n",
      "|    clip_fraction        | 0           |\n",
      "|    clip_range           | 0.2         |\n",
      "|    entropy_loss         | -1.55       |\n",
      "|    explained_variance   | -0.0151     |\n",
      "|    learning_rate        | 0.001       |\n",
      "|    loss                 | 4.11        |\n",
      "|    n_updates            | 10          |\n",
      "|    policy_gradient_loss | -0.0146     |\n",
      "|    value_loss           | 6.17        |\n",
      "-----------------------------------------\n"
     ]
    },
    {
     "name": "stdout",
     "output_type": "stream",
     "text": [
      "------------------------------------------\n",
      "| rollout/                |              |\n",
      "|    ep_len_mean          | 7.83         |\n",
      "|    ep_rew_mean          | 5.77         |\n",
      "| time/                   |              |\n",
      "|    fps                  | 34           |\n",
      "|    iterations           | 7            |\n",
      "|    time_elapsed         | 25           |\n",
      "|    total_timesteps      | 896          |\n",
      "| train/                  |              |\n",
      "|    approx_kl            | 0.0031153942 |\n",
      "|    clip_fraction        | 0            |\n",
      "|    clip_range           | 0.2          |\n",
      "|    entropy_loss         | -1.49        |\n",
      "|    explained_variance   | -0.012       |\n",
      "|    learning_rate        | 0.001        |\n",
      "|    loss                 | 3.12         |\n",
      "|    n_updates            | 12           |\n",
      "|    policy_gradient_loss | -0.00282     |\n",
      "|    value_loss           | 6.55         |\n",
      "------------------------------------------\n"
     ]
    },
    {
     "name": "stdout",
     "output_type": "stream",
     "text": [
      "----------------------------------------\n",
      "| rollout/                |            |\n",
      "|    ep_len_mean          | 8.24       |\n",
      "|    ep_rew_mean          | 6.06       |\n",
      "| time/                   |            |\n",
      "|    fps                  | 35         |\n",
      "|    iterations           | 8          |\n",
      "|    time_elapsed         | 28         |\n",
      "|    total_timesteps      | 1024       |\n",
      "| train/                  |            |\n",
      "|    approx_kl            | 0.00151644 |\n",
      "|    clip_fraction        | 0          |\n",
      "|    clip_range           | 0.2        |\n",
      "|    entropy_loss         | -1.46      |\n",
      "|    explained_variance   | 0.00127    |\n",
      "|    learning_rate        | 0.001      |\n",
      "|    loss                 | 3.78       |\n",
      "|    n_updates            | 14         |\n",
      "|    policy_gradient_loss | -0.00186   |\n",
      "|    value_loss           | 7.01       |\n",
      "----------------------------------------\n"
     ]
    },
    {
     "name": "stdout",
     "output_type": "stream",
     "text": [
      "-------------------------------------------\n",
      "| rollout/                |               |\n",
      "|    ep_len_mean          | 8.6           |\n",
      "|    ep_rew_mean          | 6.37          |\n",
      "| time/                   |               |\n",
      "|    fps                  | 35            |\n",
      "|    iterations           | 9             |\n",
      "|    time_elapsed         | 32            |\n",
      "|    total_timesteps      | 1152          |\n",
      "| train/                  |               |\n",
      "|    approx_kl            | 0.00086065335 |\n",
      "|    clip_fraction        | 0             |\n",
      "|    clip_range           | 0.2           |\n",
      "|    entropy_loss         | -1.43         |\n",
      "|    explained_variance   | 0.0132        |\n",
      "|    learning_rate        | 0.001         |\n",
      "|    loss                 | 1.85          |\n",
      "|    n_updates            | 16            |\n",
      "|    policy_gradient_loss | -0.00324      |\n",
      "|    value_loss           | 7.07          |\n",
      "-------------------------------------------\n"
     ]
    },
    {
     "name": "stdout",
     "output_type": "stream",
     "text": [
      "------------------------------------------\n",
      "| rollout/                |              |\n",
      "|    ep_len_mean          | 8.62         |\n",
      "|    ep_rew_mean          | 6.36         |\n",
      "| time/                   |              |\n",
      "|    fps                  | 36           |\n",
      "|    iterations           | 10           |\n",
      "|    time_elapsed         | 35           |\n",
      "|    total_timesteps      | 1280         |\n",
      "| train/                  |              |\n",
      "|    approx_kl            | 0.0022040834 |\n",
      "|    clip_fraction        | 0            |\n",
      "|    clip_range           | 0.2          |\n",
      "|    entropy_loss         | -1.4         |\n",
      "|    explained_variance   | -0.0122      |\n",
      "|    learning_rate        | 0.001        |\n",
      "|    loss                 | 2.78         |\n",
      "|    n_updates            | 18           |\n",
      "|    policy_gradient_loss | -0.00441     |\n",
      "|    value_loss           | 7.21         |\n",
      "------------------------------------------\n"
     ]
    },
    {
     "name": "stdout",
     "output_type": "stream",
     "text": [
      "------------------------------------------\n",
      "| rollout/                |              |\n",
      "|    ep_len_mean          | 8.77         |\n",
      "|    ep_rew_mean          | 6.45         |\n",
      "| time/                   |              |\n",
      "|    fps                  | 35           |\n",
      "|    iterations           | 11           |\n",
      "|    time_elapsed         | 39           |\n",
      "|    total_timesteps      | 1408         |\n",
      "| train/                  |              |\n",
      "|    approx_kl            | 0.0106831975 |\n",
      "|    clip_fraction        | 0.0938       |\n",
      "|    clip_range           | 0.2          |\n",
      "|    entropy_loss         | -1.32        |\n",
      "|    explained_variance   | 0.00224      |\n",
      "|    learning_rate        | 0.001        |\n",
      "|    loss                 | 5.16         |\n",
      "|    n_updates            | 20           |\n",
      "|    policy_gradient_loss | -0.0126      |\n",
      "|    value_loss           | 8.94         |\n",
      "------------------------------------------\n"
     ]
    },
    {
     "name": "stdout",
     "output_type": "stream",
     "text": [
      "----------------------------------------\n",
      "| rollout/                |            |\n",
      "|    ep_len_mean          | 9.07       |\n",
      "|    ep_rew_mean          | 6.62       |\n",
      "| time/                   |            |\n",
      "|    fps                  | 36         |\n",
      "|    iterations           | 12         |\n",
      "|    time_elapsed         | 42         |\n",
      "|    total_timesteps      | 1536       |\n",
      "| train/                  |            |\n",
      "|    approx_kl            | 0.01080345 |\n",
      "|    clip_fraction        | 0.0625     |\n",
      "|    clip_range           | 0.2        |\n",
      "|    entropy_loss         | -1.18      |\n",
      "|    explained_variance   | 0.00758    |\n",
      "|    learning_rate        | 0.001      |\n",
      "|    loss                 | 2.67       |\n",
      "|    n_updates            | 22         |\n",
      "|    policy_gradient_loss | -0.00967   |\n",
      "|    value_loss           | 8.41       |\n",
      "----------------------------------------\n"
     ]
    },
    {
     "data": {
      "text/html": [
       "<pre style=\"white-space:pre;overflow-x:auto;line-height:normal;font-family:Menlo,'DejaVu Sans Mono',consolas,'Courier New',monospace\">Episode 200 | Reward:   5.43 | Crash Rate: 50.0%\n",
       "</pre>\n"
      ],
      "text/plain": [
       "Episode 200 | Reward:   5.43 | Crash Rate: 50.0%\n"
      ]
     },
     "metadata": {},
     "output_type": "display_data"
    },
    {
     "name": "stdout",
     "output_type": "stream",
     "text": [
      "-----------------------------------------\n",
      "| rollout/                |             |\n",
      "|    ep_len_mean          | 9.03        |\n",
      "|    ep_rew_mean          | 6.53        |\n",
      "| time/                   |             |\n",
      "|    fps                  | 36          |\n",
      "|    iterations           | 13          |\n",
      "|    time_elapsed         | 45          |\n",
      "|    total_timesteps      | 1664        |\n",
      "| train/                  |             |\n",
      "|    approx_kl            | 0.010755096 |\n",
      "|    clip_fraction        | 0.0781      |\n",
      "|    clip_range           | 0.2         |\n",
      "|    entropy_loss         | -1.01       |\n",
      "|    explained_variance   | -0.00382    |\n",
      "|    learning_rate        | 0.001       |\n",
      "|    loss                 | 4.93        |\n",
      "|    n_updates            | 24          |\n",
      "|    policy_gradient_loss | -0.00831    |\n",
      "|    value_loss           | 10.2        |\n",
      "-----------------------------------------\n"
     ]
    },
    {
     "name": "stdout",
     "output_type": "stream",
     "text": [
      "------------------------------------------\n",
      "| rollout/                |              |\n",
      "|    ep_len_mean          | 9.16         |\n",
      "|    ep_rew_mean          | 6.59         |\n",
      "| time/                   |              |\n",
      "|    fps                  | 36           |\n",
      "|    iterations           | 14           |\n",
      "|    time_elapsed         | 49           |\n",
      "|    total_timesteps      | 1792         |\n",
      "| train/                  |              |\n",
      "|    approx_kl            | 0.0014851531 |\n",
      "|    clip_fraction        | 0            |\n",
      "|    clip_range           | 0.2          |\n",
      "|    entropy_loss         | -0.887       |\n",
      "|    explained_variance   | 0.0029       |\n",
      "|    learning_rate        | 0.001        |\n",
      "|    loss                 | 2.86         |\n",
      "|    n_updates            | 26           |\n",
      "|    policy_gradient_loss | -0.00349     |\n",
      "|    value_loss           | 7.98         |\n",
      "------------------------------------------\n"
     ]
    },
    {
     "name": "stdout",
     "output_type": "stream",
     "text": [
      "-------------------------------------------\n",
      "| rollout/                |               |\n",
      "|    ep_len_mean          | 9.18          |\n",
      "|    ep_rew_mean          | 6.57          |\n",
      "| time/                   |               |\n",
      "|    fps                  | 36            |\n",
      "|    iterations           | 15            |\n",
      "|    time_elapsed         | 52            |\n",
      "|    total_timesteps      | 1920          |\n",
      "| train/                  |               |\n",
      "|    approx_kl            | 0.00040820753 |\n",
      "|    clip_fraction        | 0             |\n",
      "|    clip_range           | 0.2           |\n",
      "|    entropy_loss         | -0.822        |\n",
      "|    explained_variance   | 0.00407       |\n",
      "|    learning_rate        | 0.001         |\n",
      "|    loss                 | 1.7           |\n",
      "|    n_updates            | 28            |\n",
      "|    policy_gradient_loss | 0.000739      |\n",
      "|    value_loss           | 5.58          |\n",
      "-------------------------------------------\n"
     ]
    },
    {
     "name": "stdout",
     "output_type": "stream",
     "text": [
      "-------------------------------------------\n",
      "| rollout/                |               |\n",
      "|    ep_len_mean          | 9.27          |\n",
      "|    ep_rew_mean          | 6.58          |\n",
      "| time/                   |               |\n",
      "|    fps                  | 36            |\n",
      "|    iterations           | 16            |\n",
      "|    time_elapsed         | 56            |\n",
      "|    total_timesteps      | 2048          |\n",
      "| train/                  |               |\n",
      "|    approx_kl            | 0.00082034664 |\n",
      "|    clip_fraction        | 0             |\n",
      "|    clip_range           | 0.2           |\n",
      "|    entropy_loss         | -0.797        |\n",
      "|    explained_variance   | 0.00493       |\n",
      "|    learning_rate        | 0.001         |\n",
      "|    loss                 | 3.96          |\n",
      "|    n_updates            | 30            |\n",
      "|    policy_gradient_loss | -0.00162      |\n",
      "|    value_loss           | 6.48          |\n",
      "-------------------------------------------\n"
     ]
    },
    {
     "name": "stdout",
     "output_type": "stream",
     "text": [
      "------------------------------------------\n",
      "| rollout/                |              |\n",
      "|    ep_len_mean          | 9.36         |\n",
      "|    ep_rew_mean          | 6.62         |\n",
      "| time/                   |              |\n",
      "|    fps                  | 36           |\n",
      "|    iterations           | 17           |\n",
      "|    time_elapsed         | 59           |\n",
      "|    total_timesteps      | 2176         |\n",
      "| train/                  |              |\n",
      "|    approx_kl            | 0.0009554215 |\n",
      "|    clip_fraction        | 0            |\n",
      "|    clip_range           | 0.2          |\n",
      "|    entropy_loss         | -0.739       |\n",
      "|    explained_variance   | 0.00867      |\n",
      "|    learning_rate        | 0.001        |\n",
      "|    loss                 | 0.82         |\n",
      "|    n_updates            | 32           |\n",
      "|    policy_gradient_loss | -0.0029      |\n",
      "|    value_loss           | 5.52         |\n",
      "------------------------------------------\n"
     ]
    },
    {
     "name": "stdout",
     "output_type": "stream",
     "text": [
      "-------------------------------------------\n",
      "| rollout/                |               |\n",
      "|    ep_len_mean          | 9.5           |\n",
      "|    ep_rew_mean          | 6.69          |\n",
      "| time/                   |               |\n",
      "|    fps                  | 36            |\n",
      "|    iterations           | 18            |\n",
      "|    time_elapsed         | 62            |\n",
      "|    total_timesteps      | 2304          |\n",
      "| train/                  |               |\n",
      "|    approx_kl            | 0.00035320362 |\n",
      "|    clip_fraction        | 0             |\n",
      "|    clip_range           | 0.2           |\n",
      "|    entropy_loss         | -0.71         |\n",
      "|    explained_variance   | 0.00905       |\n",
      "|    learning_rate        | 0.001         |\n",
      "|    loss                 | 1.44          |\n",
      "|    n_updates            | 34            |\n",
      "|    policy_gradient_loss | -0.000234     |\n",
      "|    value_loss           | 5.91          |\n",
      "-------------------------------------------\n"
     ]
    },
    {
     "name": "stdout",
     "output_type": "stream",
     "text": [
      "------------------------------------------\n",
      "| rollout/                |              |\n",
      "|    ep_len_mean          | 9.63         |\n",
      "|    ep_rew_mean          | 6.81         |\n",
      "| time/                   |              |\n",
      "|    fps                  | 36           |\n",
      "|    iterations           | 19           |\n",
      "|    time_elapsed         | 65           |\n",
      "|    total_timesteps      | 2432         |\n",
      "| train/                  |              |\n",
      "|    approx_kl            | 3.385218e-05 |\n",
      "|    clip_fraction        | 0            |\n",
      "|    clip_range           | 0.2          |\n",
      "|    entropy_loss         | -0.699       |\n",
      "|    explained_variance   | 0.0183       |\n",
      "|    learning_rate        | 0.001        |\n",
      "|    loss                 | 1.23         |\n",
      "|    n_updates            | 36           |\n",
      "|    policy_gradient_loss | -0.000217    |\n",
      "|    value_loss           | 3.33         |\n",
      "------------------------------------------\n"
     ]
    },
    {
     "name": "stdout",
     "output_type": "stream",
     "text": [
      "-------------------------------------------\n",
      "| rollout/                |               |\n",
      "|    ep_len_mean          | 9.67          |\n",
      "|    ep_rew_mean          | 6.85          |\n",
      "| time/                   |               |\n",
      "|    fps                  | 37            |\n",
      "|    iterations           | 20            |\n",
      "|    time_elapsed         | 68            |\n",
      "|    total_timesteps      | 2560          |\n",
      "| train/                  |               |\n",
      "|    approx_kl            | 7.0864335e-06 |\n",
      "|    clip_fraction        | 0             |\n",
      "|    clip_range           | 0.2           |\n",
      "|    entropy_loss         | -0.686        |\n",
      "|    explained_variance   | 0.0139        |\n",
      "|    learning_rate        | 0.001         |\n",
      "|    loss                 | 1.14          |\n",
      "|    n_updates            | 38            |\n",
      "|    policy_gradient_loss | -3.98e-05     |\n",
      "|    value_loss           | 3.34          |\n",
      "-------------------------------------------\n"
     ]
    },
    {
     "data": {
      "text/html": [
       "<pre style=\"white-space:pre;overflow-x:auto;line-height:normal;font-family:Menlo,'DejaVu Sans Mono',consolas,'Courier New',monospace\">Episode 300 | Reward:   7.03 | Crash Rate: 50.0%\n",
       "</pre>\n"
      ],
      "text/plain": [
       "Episode 300 | Reward:   7.03 | Crash Rate: 50.0%\n"
      ]
     },
     "metadata": {},
     "output_type": "display_data"
    },
    {
     "name": "stdout",
     "output_type": "stream",
     "text": [
      "------------------------------------------\n",
      "| rollout/                |              |\n",
      "|    ep_len_mean          | 9.77         |\n",
      "|    ep_rew_mean          | 6.95         |\n",
      "| time/                   |              |\n",
      "|    fps                  | 37           |\n",
      "|    iterations           | 21           |\n",
      "|    time_elapsed         | 71           |\n",
      "|    total_timesteps      | 2688         |\n",
      "| train/                  |              |\n",
      "|    approx_kl            | 6.381096e-05 |\n",
      "|    clip_fraction        | 0            |\n",
      "|    clip_range           | 0.2          |\n",
      "|    entropy_loss         | -0.694       |\n",
      "|    explained_variance   | 0.000297     |\n",
      "|    learning_rate        | 0.001        |\n",
      "|    loss                 | 1.52         |\n",
      "|    n_updates            | 40           |\n",
      "|    policy_gradient_loss | -0.000253    |\n",
      "|    value_loss           | 6.16         |\n",
      "------------------------------------------\n"
     ]
    },
    {
     "name": "stdout",
     "output_type": "stream",
     "text": [
      "-------------------------------------------\n",
      "| rollout/                |               |\n",
      "|    ep_len_mean          | 9.78          |\n",
      "|    ep_rew_mean          | 6.95          |\n",
      "| time/                   |               |\n",
      "|    fps                  | 38            |\n",
      "|    iterations           | 22            |\n",
      "|    time_elapsed         | 73            |\n",
      "|    total_timesteps      | 2816          |\n",
      "| train/                  |               |\n",
      "|    approx_kl            | 0.00066628726 |\n",
      "|    clip_fraction        | 0.00391       |\n",
      "|    clip_range           | 0.2           |\n",
      "|    entropy_loss         | -0.644        |\n",
      "|    explained_variance   | -0.000181     |\n",
      "|    learning_rate        | 0.001         |\n",
      "|    loss                 | 5.45          |\n",
      "|    n_updates            | 42            |\n",
      "|    policy_gradient_loss | -0.000823     |\n",
      "|    value_loss           | 10.3          |\n",
      "-------------------------------------------\n"
     ]
    },
    {
     "name": "stdout",
     "output_type": "stream",
     "text": [
      "-------------------------------------------\n",
      "| rollout/                |               |\n",
      "|    ep_len_mean          | 9.87          |\n",
      "|    ep_rew_mean          | 7.01          |\n",
      "| time/                   |               |\n",
      "|    fps                  | 38            |\n",
      "|    iterations           | 23            |\n",
      "|    time_elapsed         | 76            |\n",
      "|    total_timesteps      | 2944          |\n",
      "| train/                  |               |\n",
      "|    approx_kl            | 0.00040589552 |\n",
      "|    clip_fraction        | 0             |\n",
      "|    clip_range           | 0.2           |\n",
      "|    entropy_loss         | -0.652        |\n",
      "|    explained_variance   | -0.000638     |\n",
      "|    learning_rate        | 0.001         |\n",
      "|    loss                 | 8.95          |\n",
      "|    n_updates            | 44            |\n",
      "|    policy_gradient_loss | -0.000393     |\n",
      "|    value_loss           | 6.89          |\n",
      "-------------------------------------------\n"
     ]
    },
    {
     "name": "stdout",
     "output_type": "stream",
     "text": [
      "------------------------------------------\n",
      "| rollout/                |              |\n",
      "|    ep_len_mean          | 9.82         |\n",
      "|    ep_rew_mean          | 6.97         |\n",
      "| time/                   |              |\n",
      "|    fps                  | 39           |\n",
      "|    iterations           | 24           |\n",
      "|    time_elapsed         | 78           |\n",
      "|    total_timesteps      | 3072         |\n",
      "| train/                  |              |\n",
      "|    approx_kl            | 0.0014235456 |\n",
      "|    clip_fraction        | 0.00781      |\n",
      "|    clip_range           | 0.2          |\n",
      "|    entropy_loss         | -0.627       |\n",
      "|    explained_variance   | 0.00352      |\n",
      "|    learning_rate        | 0.001        |\n",
      "|    loss                 | 1.18         |\n",
      "|    n_updates            | 46           |\n",
      "|    policy_gradient_loss | -0.00492     |\n",
      "|    value_loss           | 7.04         |\n",
      "------------------------------------------\n"
     ]
    },
    {
     "name": "stdout",
     "output_type": "stream",
     "text": [
      "------------------------------------------\n",
      "| rollout/                |              |\n",
      "|    ep_len_mean          | 9.84         |\n",
      "|    ep_rew_mean          | 6.98         |\n",
      "| time/                   |              |\n",
      "|    fps                  | 39           |\n",
      "|    iterations           | 25           |\n",
      "|    time_elapsed         | 81           |\n",
      "|    total_timesteps      | 3200         |\n",
      "| train/                  |              |\n",
      "|    approx_kl            | 0.0002667457 |\n",
      "|    clip_fraction        | 0            |\n",
      "|    clip_range           | 0.2          |\n",
      "|    entropy_loss         | -0.564       |\n",
      "|    explained_variance   | 0.00211      |\n",
      "|    learning_rate        | 0.001        |\n",
      "|    loss                 | 0.803        |\n",
      "|    n_updates            | 48           |\n",
      "|    policy_gradient_loss | -0.00121     |\n",
      "|    value_loss           | 6.75         |\n",
      "------------------------------------------\n"
     ]
    },
    {
     "name": "stdout",
     "output_type": "stream",
     "text": [
      "------------------------------------------\n",
      "| rollout/                |              |\n",
      "|    ep_len_mean          | 9.81         |\n",
      "|    ep_rew_mean          | 6.94         |\n",
      "| time/                   |              |\n",
      "|    fps                  | 39           |\n",
      "|    iterations           | 26           |\n",
      "|    time_elapsed         | 83           |\n",
      "|    total_timesteps      | 3328         |\n",
      "| train/                  |              |\n",
      "|    approx_kl            | 0.0019617663 |\n",
      "|    clip_fraction        | 0.0156       |\n",
      "|    clip_range           | 0.2          |\n",
      "|    entropy_loss         | -0.585       |\n",
      "|    explained_variance   | 0.0141       |\n",
      "|    learning_rate        | 0.001        |\n",
      "|    loss                 | 0.995        |\n",
      "|    n_updates            | 50           |\n",
      "|    policy_gradient_loss | -0.000751    |\n",
      "|    value_loss           | 2.45         |\n",
      "------------------------------------------\n"
     ]
    },
    {
     "name": "stdout",
     "output_type": "stream",
     "text": [
      "-------------------------------------------\n",
      "| rollout/                |               |\n",
      "|    ep_len_mean          | 9.81          |\n",
      "|    ep_rew_mean          | 6.93          |\n",
      "| time/                   |               |\n",
      "|    fps                  | 40            |\n",
      "|    iterations           | 27            |\n",
      "|    time_elapsed         | 86            |\n",
      "|    total_timesteps      | 3456          |\n",
      "| train/                  |               |\n",
      "|    approx_kl            | 0.00040144566 |\n",
      "|    clip_fraction        | 0             |\n",
      "|    clip_range           | 0.2           |\n",
      "|    entropy_loss         | -0.599        |\n",
      "|    explained_variance   | 0.000387      |\n",
      "|    learning_rate        | 0.001         |\n",
      "|    loss                 | 4.35          |\n",
      "|    n_updates            | 52            |\n",
      "|    policy_gradient_loss | -0.00199      |\n",
      "|    value_loss           | 7.79          |\n",
      "-------------------------------------------\n"
     ]
    },
    {
     "name": "stdout",
     "output_type": "stream",
     "text": [
      "------------------------------------------\n",
      "| rollout/                |              |\n",
      "|    ep_len_mean          | 9.84         |\n",
      "|    ep_rew_mean          | 6.95         |\n",
      "| time/                   |              |\n",
      "|    fps                  | 40           |\n",
      "|    iterations           | 28           |\n",
      "|    time_elapsed         | 88           |\n",
      "|    total_timesteps      | 3584         |\n",
      "| train/                  |              |\n",
      "|    approx_kl            | 0.0028909175 |\n",
      "|    clip_fraction        | 0            |\n",
      "|    clip_range           | 0.2          |\n",
      "|    entropy_loss         | -0.506       |\n",
      "|    explained_variance   | 0.00666      |\n",
      "|    learning_rate        | 0.001        |\n",
      "|    loss                 | 1.02         |\n",
      "|    n_updates            | 54           |\n",
      "|    policy_gradient_loss | 0.00154      |\n",
      "|    value_loss           | 2.2          |\n",
      "------------------------------------------\n"
     ]
    },
    {
     "data": {
      "text/html": [
       "<pre style=\"white-space:pre;overflow-x:auto;line-height:normal;font-family:Menlo,'DejaVu Sans Mono',consolas,'Courier New',monospace\">Episode 400 | Reward:   7.43 | Crash Rate:  0.0%\n",
       "</pre>\n"
      ],
      "text/plain": [
       "Episode 400 | Reward:   7.43 | Crash Rate:  0.0%\n"
      ]
     },
     "metadata": {},
     "output_type": "display_data"
    },
    {
     "name": "stdout",
     "output_type": "stream",
     "text": [
      "-------------------------------------------\n",
      "| rollout/                |               |\n",
      "|    ep_len_mean          | 9.87          |\n",
      "|    ep_rew_mean          | 7.01          |\n",
      "| time/                   |               |\n",
      "|    fps                  | 40            |\n",
      "|    iterations           | 29            |\n",
      "|    time_elapsed         | 91            |\n",
      "|    total_timesteps      | 3712          |\n",
      "| train/                  |               |\n",
      "|    approx_kl            | 7.3765405e-06 |\n",
      "|    clip_fraction        | 0             |\n",
      "|    clip_range           | 0.2           |\n",
      "|    entropy_loss         | -0.478        |\n",
      "|    explained_variance   | 0.00716       |\n",
      "|    learning_rate        | 0.001         |\n",
      "|    loss                 | 0.805         |\n",
      "|    n_updates            | 56            |\n",
      "|    policy_gradient_loss | 0.000293      |\n",
      "|    value_loss           | 2             |\n",
      "-------------------------------------------\n"
     ]
    },
    {
     "name": "stdout",
     "output_type": "stream",
     "text": [
      "-------------------------------------------\n",
      "| rollout/                |               |\n",
      "|    ep_len_mean          | 9.85          |\n",
      "|    ep_rew_mean          | 6.96          |\n",
      "| time/                   |               |\n",
      "|    fps                  | 40            |\n",
      "|    iterations           | 30            |\n",
      "|    time_elapsed         | 94            |\n",
      "|    total_timesteps      | 3840          |\n",
      "| train/                  |               |\n",
      "|    approx_kl            | 0.00023943372 |\n",
      "|    clip_fraction        | 0             |\n",
      "|    clip_range           | 0.2           |\n",
      "|    entropy_loss         | -0.486        |\n",
      "|    explained_variance   | 0.00485       |\n",
      "|    learning_rate        | 0.001         |\n",
      "|    loss                 | 0.552         |\n",
      "|    n_updates            | 58            |\n",
      "|    policy_gradient_loss | -0.000998     |\n",
      "|    value_loss           | 2.15          |\n",
      "-------------------------------------------\n"
     ]
    },
    {
     "name": "stdout",
     "output_type": "stream",
     "text": [
      "------------------------------------------\n",
      "| rollout/                |              |\n",
      "|    ep_len_mean          | 9.82         |\n",
      "|    ep_rew_mean          | 6.94         |\n",
      "| time/                   |              |\n",
      "|    fps                  | 40           |\n",
      "|    iterations           | 31           |\n",
      "|    time_elapsed         | 96           |\n",
      "|    total_timesteps      | 3968         |\n",
      "| train/                  |              |\n",
      "|    approx_kl            | 0.0035053245 |\n",
      "|    clip_fraction        | 0.043        |\n",
      "|    clip_range           | 0.2          |\n",
      "|    entropy_loss         | -0.56        |\n",
      "|    explained_variance   | 0.00193      |\n",
      "|    learning_rate        | 0.001        |\n",
      "|    loss                 | 3.31         |\n",
      "|    n_updates            | 60           |\n",
      "|    policy_gradient_loss | -0.00848     |\n",
      "|    value_loss           | 8.84         |\n",
      "------------------------------------------\n"
     ]
    },
    {
     "name": "stdout",
     "output_type": "stream",
     "text": [
      "-------------------------------------------\n",
      "| rollout/                |               |\n",
      "|    ep_len_mean          | 9.87          |\n",
      "|    ep_rew_mean          | 6.97          |\n",
      "| time/                   |               |\n",
      "|    fps                  | 41            |\n",
      "|    iterations           | 32            |\n",
      "|    time_elapsed         | 99            |\n",
      "|    total_timesteps      | 4096          |\n",
      "| train/                  |               |\n",
      "|    approx_kl            | 0.00040151225 |\n",
      "|    clip_fraction        | 0             |\n",
      "|    clip_range           | 0.2           |\n",
      "|    entropy_loss         | -0.61         |\n",
      "|    explained_variance   | 0.000889      |\n",
      "|    learning_rate        | 0.001         |\n",
      "|    loss                 | 5.88          |\n",
      "|    n_updates            | 62            |\n",
      "|    policy_gradient_loss | -0.000444     |\n",
      "|    value_loss           | 8.14          |\n",
      "-------------------------------------------\n"
     ]
    },
    {
     "name": "stdout",
     "output_type": "stream",
     "text": [
      "------------------------------------------\n",
      "| rollout/                |              |\n",
      "|    ep_len_mean          | 9.86         |\n",
      "|    ep_rew_mean          | 6.95         |\n",
      "| time/                   |              |\n",
      "|    fps                  | 41           |\n",
      "|    iterations           | 33           |\n",
      "|    time_elapsed         | 101          |\n",
      "|    total_timesteps      | 4224         |\n",
      "| train/                  |              |\n",
      "|    approx_kl            | 0.0005064015 |\n",
      "|    clip_fraction        | 0            |\n",
      "|    clip_range           | 0.2          |\n",
      "|    entropy_loss         | -0.622       |\n",
      "|    explained_variance   | 0.0128       |\n",
      "|    learning_rate        | 0.001        |\n",
      "|    loss                 | 0.559        |\n",
      "|    n_updates            | 64           |\n",
      "|    policy_gradient_loss | -0.00091     |\n",
      "|    value_loss           | 1.65         |\n",
      "------------------------------------------\n"
     ]
    },
    {
     "name": "stdout",
     "output_type": "stream",
     "text": [
      "-----------------------------------------\n",
      "| rollout/                |             |\n",
      "|    ep_len_mean          | 9.86        |\n",
      "|    ep_rew_mean          | 6.97        |\n",
      "| time/                   |             |\n",
      "|    fps                  | 41          |\n",
      "|    iterations           | 34          |\n",
      "|    time_elapsed         | 104         |\n",
      "|    total_timesteps      | 4352        |\n",
      "| train/                  |             |\n",
      "|    approx_kl            | 0.001462304 |\n",
      "|    clip_fraction        | 0           |\n",
      "|    clip_range           | 0.2         |\n",
      "|    entropy_loss         | -0.643      |\n",
      "|    explained_variance   | -0.000502   |\n",
      "|    learning_rate        | 0.001       |\n",
      "|    loss                 | 23.2        |\n",
      "|    n_updates            | 66          |\n",
      "|    policy_gradient_loss | -0.000265   |\n",
      "|    value_loss           | 19.1        |\n",
      "-----------------------------------------\n"
     ]
    },
    {
     "name": "stdout",
     "output_type": "stream",
     "text": [
      "-----------------------------------------\n",
      "| rollout/                |             |\n",
      "|    ep_len_mean          | 9.86        |\n",
      "|    ep_rew_mean          | 6.96        |\n",
      "| time/                   |             |\n",
      "|    fps                  | 41          |\n",
      "|    iterations           | 35          |\n",
      "|    time_elapsed         | 106         |\n",
      "|    total_timesteps      | 4480        |\n",
      "| train/                  |             |\n",
      "|    approx_kl            | 0.002433756 |\n",
      "|    clip_fraction        | 0.0156      |\n",
      "|    clip_range           | 0.2         |\n",
      "|    entropy_loss         | -0.673      |\n",
      "|    explained_variance   | 0.00813     |\n",
      "|    learning_rate        | 0.001       |\n",
      "|    loss                 | 0.776       |\n",
      "|    n_updates            | 68          |\n",
      "|    policy_gradient_loss | -0.0106     |\n",
      "|    value_loss           | 1.85        |\n",
      "-----------------------------------------\n"
     ]
    },
    {
     "data": {
      "text/html": [
       "<pre style=\"white-space:pre;overflow-x:auto;line-height:normal;font-family:Menlo,'DejaVu Sans Mono',consolas,'Courier New',monospace\">Episode 500 | Reward:   7.59 | Crash Rate:  0.0%\n",
       "</pre>\n"
      ],
      "text/plain": [
       "Episode 500 | Reward:   7.59 | Crash Rate:  0.0%\n"
      ]
     },
     "metadata": {},
     "output_type": "display_data"
    },
    {
     "name": "stdout",
     "output_type": "stream",
     "text": [
      "-----------------------------------------\n",
      "| rollout/                |             |\n",
      "|    ep_len_mean          | 9.86        |\n",
      "|    ep_rew_mean          | 6.94        |\n",
      "| time/                   |             |\n",
      "|    fps                  | 42          |\n",
      "|    iterations           | 36          |\n",
      "|    time_elapsed         | 109         |\n",
      "|    total_timesteps      | 4608        |\n",
      "| train/                  |             |\n",
      "|    approx_kl            | 0.008195901 |\n",
      "|    clip_fraction        | 0.0938      |\n",
      "|    clip_range           | 0.2         |\n",
      "|    entropy_loss         | -0.761      |\n",
      "|    explained_variance   | 0.00043     |\n",
      "|    learning_rate        | 0.001       |\n",
      "|    loss                 | 14          |\n",
      "|    n_updates            | 70          |\n",
      "|    policy_gradient_loss | 0.00315     |\n",
      "|    value_loss           | 11.7        |\n",
      "-----------------------------------------\n"
     ]
    },
    {
     "name": "stdout",
     "output_type": "stream",
     "text": [
      "-------------------------------------------\n",
      "| rollout/                |               |\n",
      "|    ep_len_mean          | 9.86          |\n",
      "|    ep_rew_mean          | 6.95          |\n",
      "| time/                   |               |\n",
      "|    fps                  | 42            |\n",
      "|    iterations           | 37            |\n",
      "|    time_elapsed         | 111           |\n",
      "|    total_timesteps      | 4736          |\n",
      "| train/                  |               |\n",
      "|    approx_kl            | 0.00028052414 |\n",
      "|    clip_fraction        | 0             |\n",
      "|    clip_range           | 0.2           |\n",
      "|    entropy_loss         | -0.806        |\n",
      "|    explained_variance   | 0.00131       |\n",
      "|    learning_rate        | 0.001         |\n",
      "|    loss                 | 5.37          |\n",
      "|    n_updates            | 72            |\n",
      "|    policy_gradient_loss | -0.000837     |\n",
      "|    value_loss           | 11.9          |\n",
      "-------------------------------------------\n"
     ]
    },
    {
     "name": "stdout",
     "output_type": "stream",
     "text": [
      "-----------------------------------------\n",
      "| rollout/                |             |\n",
      "|    ep_len_mean          | 9.96        |\n",
      "|    ep_rew_mean          | 7.03        |\n",
      "| time/                   |             |\n",
      "|    fps                  | 42          |\n",
      "|    iterations           | 38          |\n",
      "|    time_elapsed         | 114         |\n",
      "|    total_timesteps      | 4864        |\n",
      "| train/                  |             |\n",
      "|    approx_kl            | 0.002953818 |\n",
      "|    clip_fraction        | 0           |\n",
      "|    clip_range           | 0.2         |\n",
      "|    entropy_loss         | -0.843      |\n",
      "|    explained_variance   | 0.00574     |\n",
      "|    learning_rate        | 0.001       |\n",
      "|    loss                 | 0.691       |\n",
      "|    n_updates            | 74          |\n",
      "|    policy_gradient_loss | 0.00614     |\n",
      "|    value_loss           | 1.61        |\n",
      "-----------------------------------------\n"
     ]
    },
    {
     "name": "stdout",
     "output_type": "stream",
     "text": [
      "-----------------------------------------\n",
      "| rollout/                |             |\n",
      "|    ep_len_mean          | 9.96        |\n",
      "|    ep_rew_mean          | 7.03        |\n",
      "| time/                   |             |\n",
      "|    fps                  | 42          |\n",
      "|    iterations           | 39          |\n",
      "|    time_elapsed         | 116         |\n",
      "|    total_timesteps      | 4992        |\n",
      "| train/                  |             |\n",
      "|    approx_kl            | 0.004063875 |\n",
      "|    clip_fraction        | 0           |\n",
      "|    clip_range           | 0.2         |\n",
      "|    entropy_loss         | -0.839      |\n",
      "|    explained_variance   | 0.00855     |\n",
      "|    learning_rate        | 0.001       |\n",
      "|    loss                 | 0.317       |\n",
      "|    n_updates            | 76          |\n",
      "|    policy_gradient_loss | -0.0111     |\n",
      "|    value_loss           | 1.17        |\n",
      "-----------------------------------------\n"
     ]
    },
    {
     "name": "stdout",
     "output_type": "stream",
     "text": [
      "------------------------------------------\n",
      "| rollout/                |              |\n",
      "|    ep_len_mean          | 10           |\n",
      "|    ep_rew_mean          | 7.05         |\n",
      "| time/                   |              |\n",
      "|    fps                  | 42           |\n",
      "|    iterations           | 40           |\n",
      "|    time_elapsed         | 119          |\n",
      "|    total_timesteps      | 5120         |\n",
      "| train/                  |              |\n",
      "|    approx_kl            | 0.0033929362 |\n",
      "|    clip_fraction        | 0            |\n",
      "|    clip_range           | 0.2          |\n",
      "|    entropy_loss         | -0.773       |\n",
      "|    explained_variance   | 0.0111       |\n",
      "|    learning_rate        | 0.001        |\n",
      "|    loss                 | 0.26         |\n",
      "|    n_updates            | 78           |\n",
      "|    policy_gradient_loss | 0.00173      |\n",
      "|    value_loss           | 1.08         |\n",
      "------------------------------------------\n"
     ]
    },
    {
     "data": {
      "text/html": [
       "<pre style=\"white-space:pre;overflow-x:auto;line-height:normal;font-family:Menlo,'DejaVu Sans Mono',consolas,'Courier New',monospace\"></pre>\n"
      ],
      "text/plain": []
     },
     "metadata": {},
     "output_type": "display_data"
    },
    {
     "data": {
      "text/plain": [
       "<stable_baselines3.ppo.ppo.PPO at 0x23f7a3cf790>"
      ]
     },
     "execution_count": 12,
     "metadata": {},
     "output_type": "execute_result"
    }
   ],
   "source": [
    "callback = QuickMetricsCallback()\n",
    "    \n",
    "model.learn(total_timesteps=5000,callback=callback,progress_bar=True)"
   ]
  },
  {
   "cell_type": "code",
   "execution_count": 13,
   "id": "2787dfbd",
   "metadata": {},
   "outputs": [
    {
     "data": {
      "image/png": "[encoded data removed]",
      "text/plain": [
       "<Figure size 1000x300 with 1 Axes>"
      ]
     },
     "metadata": {},
     "output_type": "display_data"
    }
   ],
   "source": [
    "plt.figure(figsize=(10, 3))\n",
    "plt.plot(callback.episode_rewards, 'b-', alpha=0.7)\n",
    "plt.title('Episode Rewards')\n",
    "plt.xlabel('Episode')\n",
    "plt.ylabel('Reward')\n",
    "plt.grid(True)\n",
    "plt.tight_layout()\n",
    "plt.show()"
   ]
  },
  {
   "cell_type": "code",
   "execution_count": null,
   "id": "80417228",
   "metadata": {},
   "outputs": [
    {
     "name": "stdout",
     "output_type": "stream",
     "text": [
      "\n",
      "📈 TRAINING SUMMARY\n",
      "   Episodes completed: 552\n",
      "   Mean reward: 6.61\n",
      "   Final reward (last 2): 7.09\n",
      "   Crash rate: 21.9%\n",
      "   Mean episode length: 9.3\n"
     ]
    }
   ],
   "source": [
    "print(f\"TRAINING SUMMARY\")\n",
    "print(f\"Episodes completed: {len(callback.episode_rewards)}\")\n",
    "print(f\"Mean reward: {np.mean(callback.episode_rewards):.2f}\")\n",
    "print(f\"Final reward (last 2): {np.mean(callback.episode_rewards[-2:]):.2f}\")\n",
    "print(f\"Crash rate: {np.mean(callback.episode_crashes)*100:.1f}%\")\n",
    "print(f\"Mean episode length: {np.mean(callback.episode_lengths):.1f}\")"
   ]
  },
  {
   "cell_type": "code",
   "execution_count": 15,
   "id": "843d0a10",
   "metadata": {},
   "outputs": [],
   "source": [
    "env = gym.make(\"highway-v0\", render_mode=\"rgb_array\")\n",
    "    \n",
    "config = {\n",
    "    \"observation\": {\n",
    "        \"type\": \"Kinematics\",\n",
    "        \"vehicles_count\": 5,\n",
    "        \"features\": [\"presence\", \"x\", \"y\", \"vx\", \"vy\"],\n",
    "        \"normalize\": True\n",
    "    },\n",
    "    \"lanes_count\": 3,\n",
    "    \"vehicles_count\": 30,\n",
    "    \"duration\": 10,\n",
    "    \"collision_reward\": -1,\n",
    "    \"reward_speed_range\": [20, 30],\n",
    "}\n",
    "\n",
    "env.unwrapped.configure(config)"
   ]
  },
  {
   "cell_type": "code",
   "execution_count": 16,
   "id": "b30eee06",
   "metadata": {},
   "outputs": [],
   "source": [
    "episode_rewards = []\n",
    "episode_lengths = []\n",
    "episode_crashes = []"
   ]
  },
  {
   "cell_type": "code",
   "execution_count": 17,
   "id": "063c5d05",
   "metadata": {},
   "outputs": [
    {
     "data": {
      "application/vnd.jupyter.widget-view+json": {
       "model_id": "057d9a35b314483fb727b5caf2f55f66",
       "version_major": 2,
       "version_minor": 0
      },
      "text/plain": [
       "Output()"
      ]
     },
     "metadata": {},
     "output_type": "display_data"
    },
    {
     "name": "stdout",
     "output_type": "stream",
     "text": [
      "---------------------------------\n",
      "| rollout/           |          |\n",
      "|    ep_len_mean     | 10       |\n",
      "|    ep_rew_mean     | 7.12     |\n",
      "| time/              |          |\n",
      "|    fps             | 51       |\n",
      "|    iterations      | 1        |\n",
      "|    time_elapsed    | 2        |\n",
      "|    total_timesteps | 128      |\n",
      "---------------------------------\n"
     ]
    },
    {
     "name": "stdout",
     "output_type": "stream",
     "text": [
      "-----------------------------------------\n",
      "| rollout/                |             |\n",
      "|    ep_len_mean          | 9.88        |\n",
      "|    ep_rew_mean          | 7.02        |\n",
      "| time/                   |             |\n",
      "|    fps                  | 50          |\n",
      "|    iterations           | 2           |\n",
      "|    time_elapsed         | 5           |\n",
      "|    total_timesteps      | 256         |\n",
      "| train/                  |             |\n",
      "|    approx_kl            | 0.006912674 |\n",
      "|    clip_fraction        | 0.0508      |\n",
      "|    clip_range           | 0.2         |\n",
      "|    entropy_loss         | -0.842      |\n",
      "|    explained_variance   | 0.00839     |\n",
      "|    learning_rate        | 0.001       |\n",
      "|    loss                 | 0.337       |\n",
      "|    n_updates            | 82          |\n",
      "|    policy_gradient_loss | -0.00749    |\n",
      "|    value_loss           | 1.24        |\n",
      "-----------------------------------------\n"
     ]
    },
    {
     "name": "stdout",
     "output_type": "stream",
     "text": [
      "-----------------------------------------\n",
      "| rollout/                |             |\n",
      "|    ep_len_mean          | 9.82        |\n",
      "|    ep_rew_mean          | 7.04        |\n",
      "| time/                   |             |\n",
      "|    fps                  | 49          |\n",
      "|    iterations           | 3           |\n",
      "|    time_elapsed         | 7           |\n",
      "|    total_timesteps      | 384         |\n",
      "| train/                  |             |\n",
      "|    approx_kl            | 0.011232356 |\n",
      "|    clip_fraction        | 0.0938      |\n",
      "|    clip_range           | 0.2         |\n",
      "|    entropy_loss         | -0.902      |\n",
      "|    explained_variance   | 0.000458    |\n",
      "|    learning_rate        | 0.001       |\n",
      "|    loss                 | 3.72        |\n",
      "|    n_updates            | 84          |\n",
      "|    policy_gradient_loss | -0.00276    |\n",
      "|    value_loss           | 13.6        |\n",
      "-----------------------------------------\n"
     ]
    },
    {
     "name": "stdout",
     "output_type": "stream",
     "text": [
      "---------------------------------------\n",
      "| rollout/                |           |\n",
      "|    ep_len_mean          | 9.71      |\n",
      "|    ep_rew_mean          | 6.95      |\n",
      "| time/                   |           |\n",
      "|    fps                  | 49        |\n",
      "|    iterations           | 4         |\n",
      "|    time_elapsed         | 10        |\n",
      "|    total_timesteps      | 512       |\n",
      "| train/                  |           |\n",
      "|    approx_kl            | 0.0198443 |\n",
      "|    clip_fraction        | 0.184     |\n",
      "|    clip_range           | 0.2       |\n",
      "|    entropy_loss         | -0.922    |\n",
      "|    explained_variance   | -0.000605 |\n",
      "|    learning_rate        | 0.001     |\n",
      "|    loss                 | 0.622     |\n",
      "|    n_updates            | 86        |\n",
      "|    policy_gradient_loss | -0.013    |\n",
      "|    value_loss           | 12.9      |\n",
      "---------------------------------------\n"
     ]
    },
    {
     "name": "stdout",
     "output_type": "stream",
     "text": [
      "------------------------------------------\n",
      "| rollout/                |              |\n",
      "|    ep_len_mean          | 9.68         |\n",
      "|    ep_rew_mean          | 6.89         |\n",
      "| time/                   |              |\n",
      "|    fps                  | 49           |\n",
      "|    iterations           | 5            |\n",
      "|    time_elapsed         | 12           |\n",
      "|    total_timesteps      | 640          |\n",
      "| train/                  |              |\n",
      "|    approx_kl            | 0.0008092439 |\n",
      "|    clip_fraction        | 0            |\n",
      "|    clip_range           | 0.2          |\n",
      "|    entropy_loss         | -0.885       |\n",
      "|    explained_variance   | -0.000509    |\n",
      "|    learning_rate        | 0.001        |\n",
      "|    loss                 | 21.4         |\n",
      "|    n_updates            | 88           |\n",
      "|    policy_gradient_loss | -0.00154     |\n",
      "|    value_loss           | 24.1         |\n",
      "------------------------------------------\n"
     ]
    },
    {
     "name": "stdout",
     "output_type": "stream",
     "text": [
      "------------------------------------------\n",
      "| rollout/                |              |\n",
      "|    ep_len_mean          | 9.66         |\n",
      "|    ep_rew_mean          | 6.89         |\n",
      "| time/                   |              |\n",
      "|    fps                  | 49           |\n",
      "|    iterations           | 6            |\n",
      "|    time_elapsed         | 15           |\n",
      "|    total_timesteps      | 768          |\n",
      "| train/                  |              |\n",
      "|    approx_kl            | 0.0028753048 |\n",
      "|    clip_fraction        | 0            |\n",
      "|    clip_range           | 0.2          |\n",
      "|    entropy_loss         | -0.914       |\n",
      "|    explained_variance   | 0.000196     |\n",
      "|    learning_rate        | 0.001        |\n",
      "|    loss                 | 14.8         |\n",
      "|    n_updates            | 90           |\n",
      "|    policy_gradient_loss | -0.0052      |\n",
      "|    value_loss           | 40.1         |\n",
      "------------------------------------------\n"
     ]
    },
    {
     "name": "stdout",
     "output_type": "stream",
     "text": [
      "-------------------------------------------\n",
      "| rollout/                |               |\n",
      "|    ep_len_mean          | 9.64          |\n",
      "|    ep_rew_mean          | 6.87          |\n",
      "| time/                   |               |\n",
      "|    fps                  | 49            |\n",
      "|    iterations           | 7             |\n",
      "|    time_elapsed         | 18            |\n",
      "|    total_timesteps      | 896           |\n",
      "| train/                  |               |\n",
      "|    approx_kl            | 0.00065794867 |\n",
      "|    clip_fraction        | 0             |\n",
      "|    clip_range           | 0.2           |\n",
      "|    entropy_loss         | -0.9          |\n",
      "|    explained_variance   | 0.00107       |\n",
      "|    learning_rate        | 0.001         |\n",
      "|    loss                 | 18            |\n",
      "|    n_updates            | 92            |\n",
      "|    policy_gradient_loss | 0.00077       |\n",
      "|    value_loss           | 24.6          |\n",
      "-------------------------------------------\n"
     ]
    },
    {
     "data": {
      "text/html": [
       "<pre style=\"white-space:pre;overflow-x:auto;line-height:normal;font-family:Menlo,'DejaVu Sans Mono',consolas,'Courier New',monospace\">Episode 100 | Reward:   6.69 | Crash Rate:  0.0%\n",
       "</pre>\n"
      ],
      "text/plain": [
       "Episode 100 | Reward:   6.69 | Crash Rate:  0.0%\n"
      ]
     },
     "metadata": {},
     "output_type": "display_data"
    },
    {
     "name": "stdout",
     "output_type": "stream",
     "text": [
      "----------------------------------------\n",
      "| rollout/                |            |\n",
      "|    ep_len_mean          | 9.67       |\n",
      "|    ep_rew_mean          | 6.88       |\n",
      "| time/                   |            |\n",
      "|    fps                  | 49         |\n",
      "|    iterations           | 8          |\n",
      "|    time_elapsed         | 20         |\n",
      "|    total_timesteps      | 1024       |\n",
      "| train/                  |            |\n",
      "|    approx_kl            | 0.01379696 |\n",
      "|    clip_fraction        | 0.105      |\n",
      "|    clip_range           | 0.2        |\n",
      "|    entropy_loss         | -0.851     |\n",
      "|    explained_variance   | -0.000326  |\n",
      "|    learning_rate        | 0.001      |\n",
      "|    loss                 | 0.525      |\n",
      "|    n_updates            | 94         |\n",
      "|    policy_gradient_loss | -0.00568   |\n",
      "|    value_loss           | 10.9       |\n",
      "----------------------------------------\n"
     ]
    },
    {
     "name": "stdout",
     "output_type": "stream",
     "text": [
      "------------------------------------------\n",
      "| rollout/                |              |\n",
      "|    ep_len_mean          | 9.66         |\n",
      "|    ep_rew_mean          | 6.88         |\n",
      "| time/                   |              |\n",
      "|    fps                  | 49           |\n",
      "|    iterations           | 9            |\n",
      "|    time_elapsed         | 23           |\n",
      "|    total_timesteps      | 1152         |\n",
      "| train/                  |              |\n",
      "|    approx_kl            | 0.0004455913 |\n",
      "|    clip_fraction        | 0            |\n",
      "|    clip_range           | 0.2          |\n",
      "|    entropy_loss         | -0.854       |\n",
      "|    explained_variance   | 0.0159       |\n",
      "|    learning_rate        | 0.001        |\n",
      "|    loss                 | 0.316        |\n",
      "|    n_updates            | 96           |\n",
      "|    policy_gradient_loss | -0.00141     |\n",
      "|    value_loss           | 1.07         |\n",
      "------------------------------------------\n"
     ]
    },
    {
     "name": "stdout",
     "output_type": "stream",
     "text": [
      "-----------------------------------------\n",
      "| rollout/                |             |\n",
      "|    ep_len_mean          | 9.65        |\n",
      "|    ep_rew_mean          | 6.87        |\n",
      "| time/                   |             |\n",
      "|    fps                  | 49          |\n",
      "|    iterations           | 10          |\n",
      "|    time_elapsed         | 25          |\n",
      "|    total_timesteps      | 1280        |\n",
      "| train/                  |             |\n",
      "|    approx_kl            | 0.006648139 |\n",
      "|    clip_fraction        | 0.0273      |\n",
      "|    clip_range           | 0.2         |\n",
      "|    entropy_loss         | -0.905      |\n",
      "|    explained_variance   | -0.00032    |\n",
      "|    learning_rate        | 0.001       |\n",
      "|    loss                 | 0.517       |\n",
      "|    n_updates            | 98          |\n",
      "|    policy_gradient_loss | -0.0073     |\n",
      "|    value_loss           | 14.7        |\n",
      "-----------------------------------------\n"
     ]
    },
    {
     "name": "stdout",
     "output_type": "stream",
     "text": [
      "------------------------------------------\n",
      "| rollout/                |              |\n",
      "|    ep_len_mean          | 9.64         |\n",
      "|    ep_rew_mean          | 6.85         |\n",
      "| time/                   |              |\n",
      "|    fps                  | 49           |\n",
      "|    iterations           | 11           |\n",
      "|    time_elapsed         | 28           |\n",
      "|    total_timesteps      | 1408         |\n",
      "| train/                  |              |\n",
      "|    approx_kl            | 0.0003601038 |\n",
      "|    clip_fraction        | 0            |\n",
      "|    clip_range           | 0.2          |\n",
      "|    entropy_loss         | -0.939       |\n",
      "|    explained_variance   | 0.000407     |\n",
      "|    learning_rate        | 0.001        |\n",
      "|    loss                 | 19.4         |\n",
      "|    n_updates            | 100          |\n",
      "|    policy_gradient_loss | 0.00177      |\n",
      "|    value_loss           | 39.3         |\n",
      "------------------------------------------\n"
     ]
    },
    {
     "name": "stdout",
     "output_type": "stream",
     "text": [
      "-------------------------------------------\n",
      "| rollout/                |               |\n",
      "|    ep_len_mean          | 9.67          |\n",
      "|    ep_rew_mean          | 6.86          |\n",
      "| time/                   |               |\n",
      "|    fps                  | 49            |\n",
      "|    iterations           | 12            |\n",
      "|    time_elapsed         | 31            |\n",
      "|    total_timesteps      | 1536          |\n",
      "| train/                  |               |\n",
      "|    approx_kl            | 0.00045930827 |\n",
      "|    clip_fraction        | 0             |\n",
      "|    clip_range           | 0.2           |\n",
      "|    entropy_loss         | -0.906        |\n",
      "|    explained_variance   | 0.00105       |\n",
      "|    learning_rate        | 0.001         |\n",
      "|    loss                 | 0.839         |\n",
      "|    n_updates            | 102           |\n",
      "|    policy_gradient_loss | 0.00131       |\n",
      "|    value_loss           | 14.4          |\n",
      "-------------------------------------------\n"
     ]
    },
    {
     "name": "stdout",
     "output_type": "stream",
     "text": [
      "------------------------------------------\n",
      "| rollout/                |              |\n",
      "|    ep_len_mean          | 9.61         |\n",
      "|    ep_rew_mean          | 6.81         |\n",
      "| time/                   |              |\n",
      "|    fps                  | 49           |\n",
      "|    iterations           | 13           |\n",
      "|    time_elapsed         | 33           |\n",
      "|    total_timesteps      | 1664         |\n",
      "| train/                  |              |\n",
      "|    approx_kl            | 0.0003693346 |\n",
      "|    clip_fraction        | 0            |\n",
      "|    clip_range           | 0.2          |\n",
      "|    entropy_loss         | -0.926       |\n",
      "|    explained_variance   | -0.000515    |\n",
      "|    learning_rate        | 0.001        |\n",
      "|    loss                 | 19           |\n",
      "|    n_updates            | 104          |\n",
      "|    policy_gradient_loss | -0.00128     |\n",
      "|    value_loss           | 38.5         |\n",
      "------------------------------------------\n"
     ]
    },
    {
     "name": "stdout",
     "output_type": "stream",
     "text": [
      "------------------------------------------\n",
      "| rollout/                |              |\n",
      "|    ep_len_mean          | 9.72         |\n",
      "|    ep_rew_mean          | 6.89         |\n",
      "| time/                   |              |\n",
      "|    fps                  | 48           |\n",
      "|    iterations           | 14           |\n",
      "|    time_elapsed         | 36           |\n",
      "|    total_timesteps      | 1792         |\n",
      "| train/                  |              |\n",
      "|    approx_kl            | 0.0014877999 |\n",
      "|    clip_fraction        | 0.00781      |\n",
      "|    clip_range           | 0.2          |\n",
      "|    entropy_loss         | -0.894       |\n",
      "|    explained_variance   | 0.000646     |\n",
      "|    learning_rate        | 0.001        |\n",
      "|    loss                 | 38           |\n",
      "|    n_updates            | 106          |\n",
      "|    policy_gradient_loss | -0.00395     |\n",
      "|    value_loss           | 37           |\n",
      "------------------------------------------\n"
     ]
    },
    {
     "name": "stdout",
     "output_type": "stream",
     "text": [
      "-----------------------------------------\n",
      "| rollout/                |             |\n",
      "|    ep_len_mean          | 9.7         |\n",
      "|    ep_rew_mean          | 6.86        |\n",
      "| time/                   |             |\n",
      "|    fps                  | 48          |\n",
      "|    iterations           | 15          |\n",
      "|    time_elapsed         | 39          |\n",
      "|    total_timesteps      | 1920        |\n",
      "| train/                  |             |\n",
      "|    approx_kl            | 0.001947376 |\n",
      "|    clip_fraction        | 0           |\n",
      "|    clip_range           | 0.2         |\n",
      "|    entropy_loss         | -0.861      |\n",
      "|    explained_variance   | 0.00197     |\n",
      "|    learning_rate        | 0.001       |\n",
      "|    loss                 | 0.776       |\n",
      "|    n_updates            | 108         |\n",
      "|    policy_gradient_loss | -0.00378    |\n",
      "|    value_loss           | 14.2        |\n",
      "-----------------------------------------\n"
     ]
    },
    {
     "data": {
      "text/html": [
       "<pre style=\"white-space:pre;overflow-x:auto;line-height:normal;font-family:Menlo,'DejaVu Sans Mono',consolas,'Courier New',monospace\">Episode 200 | Reward:   7.42 | Crash Rate:  0.0%\n",
       "</pre>\n"
      ],
      "text/plain": [
       "Episode 200 | Reward:   7.42 | Crash Rate:  0.0%\n"
      ]
     },
     "metadata": {},
     "output_type": "display_data"
    },
    {
     "name": "stdout",
     "output_type": "stream",
     "text": [
      "-----------------------------------------\n",
      "| rollout/                |             |\n",
      "|    ep_len_mean          | 9.7         |\n",
      "|    ep_rew_mean          | 6.87        |\n",
      "| time/                   |             |\n",
      "|    fps                  | 48          |\n",
      "|    iterations           | 16          |\n",
      "|    time_elapsed         | 41          |\n",
      "|    total_timesteps      | 2048        |\n",
      "| train/                  |             |\n",
      "|    approx_kl            | 0.018040223 |\n",
      "|    clip_fraction        | 0.0938      |\n",
      "|    clip_range           | 0.2         |\n",
      "|    entropy_loss         | -0.744      |\n",
      "|    explained_variance   | 0.0012      |\n",
      "|    learning_rate        | 0.001       |\n",
      "|    loss                 | 4.95        |\n",
      "|    n_updates            | 110         |\n",
      "|    policy_gradient_loss | -0.00166    |\n",
      "|    value_loss           | 13.6        |\n",
      "-----------------------------------------\n"
     ]
    },
    {
     "name": "stdout",
     "output_type": "stream",
     "text": [
      "------------------------------------------\n",
      "| rollout/                |              |\n",
      "|    ep_len_mean          | 9.71         |\n",
      "|    ep_rew_mean          | 6.87         |\n",
      "| time/                   |              |\n",
      "|    fps                  | 48           |\n",
      "|    iterations           | 17           |\n",
      "|    time_elapsed         | 44           |\n",
      "|    total_timesteps      | 2176         |\n",
      "| train/                  |              |\n",
      "|    approx_kl            | 0.0022086021 |\n",
      "|    clip_fraction        | 0            |\n",
      "|    clip_range           | 0.2          |\n",
      "|    entropy_loss         | -0.612       |\n",
      "|    explained_variance   | 0.0124       |\n",
      "|    learning_rate        | 0.001        |\n",
      "|    loss                 | 0.294        |\n",
      "|    n_updates            | 112          |\n",
      "|    policy_gradient_loss | -0.00464     |\n",
      "|    value_loss           | 1.2          |\n",
      "------------------------------------------\n"
     ]
    },
    {
     "name": "stdout",
     "output_type": "stream",
     "text": [
      "------------------------------------------\n",
      "| rollout/                |              |\n",
      "|    ep_len_mean          | 9.75         |\n",
      "|    ep_rew_mean          | 6.86         |\n",
      "| time/                   |              |\n",
      "|    fps                  | 48           |\n",
      "|    iterations           | 18           |\n",
      "|    time_elapsed         | 47           |\n",
      "|    total_timesteps      | 2304         |\n",
      "| train/                  |              |\n",
      "|    approx_kl            | 0.0012138002 |\n",
      "|    clip_fraction        | 0            |\n",
      "|    clip_range           | 0.2          |\n",
      "|    entropy_loss         | -0.559       |\n",
      "|    explained_variance   | 0.0181       |\n",
      "|    learning_rate        | 0.001        |\n",
      "|    loss                 | 0.187        |\n",
      "|    n_updates            | 114          |\n",
      "|    policy_gradient_loss | -0.00432     |\n",
      "|    value_loss           | 0.921        |\n",
      "------------------------------------------\n"
     ]
    },
    {
     "name": "stdout",
     "output_type": "stream",
     "text": [
      "------------------------------------------\n",
      "| rollout/                |              |\n",
      "|    ep_len_mean          | 9.82         |\n",
      "|    ep_rew_mean          | 6.91         |\n",
      "| time/                   |              |\n",
      "|    fps                  | 48           |\n",
      "|    iterations           | 19           |\n",
      "|    time_elapsed         | 50           |\n",
      "|    total_timesteps      | 2432         |\n",
      "| train/                  |              |\n",
      "|    approx_kl            | 0.0026069288 |\n",
      "|    clip_fraction        | 0.0195       |\n",
      "|    clip_range           | 0.2          |\n",
      "|    entropy_loss         | -0.5         |\n",
      "|    explained_variance   | 0.00145      |\n",
      "|    learning_rate        | 0.001        |\n",
      "|    loss                 | 9.44         |\n",
      "|    n_updates            | 116          |\n",
      "|    policy_gradient_loss | -0.00657     |\n",
      "|    value_loss           | 13.7         |\n",
      "------------------------------------------\n"
     ]
    },
    {
     "name": "stdout",
     "output_type": "stream",
     "text": [
      "------------------------------------------\n",
      "| rollout/                |              |\n",
      "|    ep_len_mean          | 9.84         |\n",
      "|    ep_rew_mean          | 6.95         |\n",
      "| time/                   |              |\n",
      "|    fps                  | 48           |\n",
      "|    iterations           | 20           |\n",
      "|    time_elapsed         | 52           |\n",
      "|    total_timesteps      | 2560         |\n",
      "| train/                  |              |\n",
      "|    approx_kl            | 0.0007870896 |\n",
      "|    clip_fraction        | 0            |\n",
      "|    clip_range           | 0.2          |\n",
      "|    entropy_loss         | -0.414       |\n",
      "|    explained_variance   | 0.00238      |\n",
      "|    learning_rate        | 0.001        |\n",
      "|    loss                 | 0.697        |\n",
      "|    n_updates            | 118          |\n",
      "|    policy_gradient_loss | 0.000291     |\n",
      "|    value_loss           | 15.9         |\n",
      "------------------------------------------\n"
     ]
    },
    {
     "name": "stdout",
     "output_type": "stream",
     "text": [
      "------------------------------------------\n",
      "| rollout/                |              |\n",
      "|    ep_len_mean          | 9.92         |\n",
      "|    ep_rew_mean          | 6.99         |\n",
      "| time/                   |              |\n",
      "|    fps                  | 48           |\n",
      "|    iterations           | 21           |\n",
      "|    time_elapsed         | 55           |\n",
      "|    total_timesteps      | 2688         |\n",
      "| train/                  |              |\n",
      "|    approx_kl            | 7.278286e-06 |\n",
      "|    clip_fraction        | 0            |\n",
      "|    clip_range           | 0.2          |\n",
      "|    entropy_loss         | -0.388       |\n",
      "|    explained_variance   | 0.0257       |\n",
      "|    learning_rate        | 0.001        |\n",
      "|    loss                 | 0.331        |\n",
      "|    n_updates            | 120          |\n",
      "|    policy_gradient_loss | -0.000103    |\n",
      "|    value_loss           | 0.991        |\n",
      "------------------------------------------\n"
     ]
    },
    {
     "name": "stdout",
     "output_type": "stream",
     "text": [
      "-------------------------------------------\n",
      "| rollout/                |               |\n",
      "|    ep_len_mean          | 9.93          |\n",
      "|    ep_rew_mean          | 7             |\n",
      "| time/                   |               |\n",
      "|    fps                  | 48            |\n",
      "|    iterations           | 22            |\n",
      "|    time_elapsed         | 57            |\n",
      "|    total_timesteps      | 2816          |\n",
      "| train/                  |               |\n",
      "|    approx_kl            | 0.00015395368 |\n",
      "|    clip_fraction        | 0             |\n",
      "|    clip_range           | 0.2           |\n",
      "|    entropy_loss         | -0.415        |\n",
      "|    explained_variance   | 0.0321        |\n",
      "|    learning_rate        | 0.001         |\n",
      "|    loss                 | 0.166         |\n",
      "|    n_updates            | 122           |\n",
      "|    policy_gradient_loss | 0.000253      |\n",
      "|    value_loss           | 0.687         |\n",
      "-------------------------------------------\n"
     ]
    },
    {
     "data": {
      "text/html": [
       "<pre style=\"white-space:pre;overflow-x:auto;line-height:normal;font-family:Menlo,'DejaVu Sans Mono',consolas,'Courier New',monospace\">Episode 300 | Reward:   6.89 | Crash Rate:  0.0%\n",
       "</pre>\n"
      ],
      "text/plain": [
       "Episode 300 | Reward:   6.89 | Crash Rate:  0.0%\n"
      ]
     },
     "metadata": {},
     "output_type": "display_data"
    },
    {
     "name": "stdout",
     "output_type": "stream",
     "text": [
      "------------------------------------------\n",
      "| rollout/                |              |\n",
      "|    ep_len_mean          | 9.95         |\n",
      "|    ep_rew_mean          | 7.01         |\n",
      "| time/                   |              |\n",
      "|    fps                  | 48           |\n",
      "|    iterations           | 23           |\n",
      "|    time_elapsed         | 60           |\n",
      "|    total_timesteps      | 2944         |\n",
      "| train/                  |              |\n",
      "|    approx_kl            | 0.0007228181 |\n",
      "|    clip_fraction        | 0            |\n",
      "|    clip_range           | 0.2          |\n",
      "|    entropy_loss         | -0.405       |\n",
      "|    explained_variance   | 0.0327       |\n",
      "|    learning_rate        | 0.001        |\n",
      "|    loss                 | 0.191        |\n",
      "|    n_updates            | 124          |\n",
      "|    policy_gradient_loss | -0.00236     |\n",
      "|    value_loss           | 0.618        |\n",
      "------------------------------------------\n"
     ]
    },
    {
     "name": "stdout",
     "output_type": "stream",
     "text": [
      "------------------------------------------\n",
      "| rollout/                |              |\n",
      "|    ep_len_mean          | 9.95         |\n",
      "|    ep_rew_mean          | 7.01         |\n",
      "| time/                   |              |\n",
      "|    fps                  | 48           |\n",
      "|    iterations           | 24           |\n",
      "|    time_elapsed         | 63           |\n",
      "|    total_timesteps      | 3072         |\n",
      "| train/                  |              |\n",
      "|    approx_kl            | 0.0005899044 |\n",
      "|    clip_fraction        | 0            |\n",
      "|    clip_range           | 0.2          |\n",
      "|    entropy_loss         | -0.366       |\n",
      "|    explained_variance   | 0.0298       |\n",
      "|    learning_rate        | 0.001        |\n",
      "|    loss                 | 0.118        |\n",
      "|    n_updates            | 126          |\n",
      "|    policy_gradient_loss | -0.00227     |\n",
      "|    value_loss           | 0.506        |\n",
      "------------------------------------------\n"
     ]
    },
    {
     "name": "stdout",
     "output_type": "stream",
     "text": [
      "-------------------------------------------\n",
      "| rollout/                |               |\n",
      "|    ep_len_mean          | 9.94          |\n",
      "|    ep_rew_mean          | 7.01          |\n",
      "| time/                   |               |\n",
      "|    fps                  | 48            |\n",
      "|    iterations           | 25            |\n",
      "|    time_elapsed         | 66            |\n",
      "|    total_timesteps      | 3200          |\n",
      "| train/                  |               |\n",
      "|    approx_kl            | 2.3816712e-05 |\n",
      "|    clip_fraction        | 0             |\n",
      "|    clip_range           | 0.2           |\n",
      "|    entropy_loss         | -0.329        |\n",
      "|    explained_variance   | 0.014         |\n",
      "|    learning_rate        | 0.001         |\n",
      "|    loss                 | 0.128         |\n",
      "|    n_updates            | 128           |\n",
      "|    policy_gradient_loss | 0.000246      |\n",
      "|    value_loss           | 0.593         |\n",
      "-------------------------------------------\n"
     ]
    },
    {
     "name": "stdout",
     "output_type": "stream",
     "text": [
      "------------------------------------------\n",
      "| rollout/                |              |\n",
      "|    ep_len_mean          | 9.98         |\n",
      "|    ep_rew_mean          | 7.03         |\n",
      "| time/                   |              |\n",
      "|    fps                  | 47           |\n",
      "|    iterations           | 26           |\n",
      "|    time_elapsed         | 69           |\n",
      "|    total_timesteps      | 3328         |\n",
      "| train/                  |              |\n",
      "|    approx_kl            | 0.0009277384 |\n",
      "|    clip_fraction        | 0            |\n",
      "|    clip_range           | 0.2          |\n",
      "|    entropy_loss         | -0.379       |\n",
      "|    explained_variance   | 0.00097      |\n",
      "|    learning_rate        | 0.001        |\n",
      "|    loss                 | 20           |\n",
      "|    n_updates            | 130          |\n",
      "|    policy_gradient_loss | 0.00347      |\n",
      "|    value_loss           | 19.6         |\n",
      "------------------------------------------\n"
     ]
    },
    {
     "name": "stdout",
     "output_type": "stream",
     "text": [
      "------------------------------------------\n",
      "| rollout/                |              |\n",
      "|    ep_len_mean          | 9.97         |\n",
      "|    ep_rew_mean          | 6.99         |\n",
      "| time/                   |              |\n",
      "|    fps                  | 47           |\n",
      "|    iterations           | 27           |\n",
      "|    time_elapsed         | 72           |\n",
      "|    total_timesteps      | 3456         |\n",
      "| train/                  |              |\n",
      "|    approx_kl            | 0.0001957058 |\n",
      "|    clip_fraction        | 0            |\n",
      "|    clip_range           | 0.2          |\n",
      "|    entropy_loss         | -0.426       |\n",
      "|    explained_variance   | 0.026        |\n",
      "|    learning_rate        | 0.001        |\n",
      "|    loss                 | 0.146        |\n",
      "|    n_updates            | 132          |\n",
      "|    policy_gradient_loss | 0.000804     |\n",
      "|    value_loss           | 0.54         |\n",
      "------------------------------------------\n"
     ]
    },
    {
     "name": "stdout",
     "output_type": "stream",
     "text": [
      "-------------------------------------------\n",
      "| rollout/                |               |\n",
      "|    ep_len_mean          | 9.97          |\n",
      "|    ep_rew_mean          | 6.97          |\n",
      "| time/                   |               |\n",
      "|    fps                  | 46            |\n",
      "|    iterations           | 28            |\n",
      "|    time_elapsed         | 77            |\n",
      "|    total_timesteps      | 3584          |\n",
      "| train/                  |               |\n",
      "|    approx_kl            | 0.00055741286 |\n",
      "|    clip_fraction        | 0             |\n",
      "|    clip_range           | 0.2           |\n",
      "|    entropy_loss         | -0.426        |\n",
      "|    explained_variance   | -0.000532     |\n",
      "|    learning_rate        | 0.001         |\n",
      "|    loss                 | 29.3          |\n",
      "|    n_updates            | 134           |\n",
      "|    policy_gradient_loss | -0.00199      |\n",
      "|    value_loss           | 38.7          |\n",
      "-------------------------------------------\n"
     ]
    },
    {
     "name": "stdout",
     "output_type": "stream",
     "text": [
      "-------------------------------------------\n",
      "| rollout/                |               |\n",
      "|    ep_len_mean          | 9.92          |\n",
      "|    ep_rew_mean          | 6.92          |\n",
      "| time/                   |               |\n",
      "|    fps                  | 46            |\n",
      "|    iterations           | 29            |\n",
      "|    time_elapsed         | 80            |\n",
      "|    total_timesteps      | 3712          |\n",
      "| train/                  |               |\n",
      "|    approx_kl            | 0.00076046586 |\n",
      "|    clip_fraction        | 0             |\n",
      "|    clip_range           | 0.2           |\n",
      "|    entropy_loss         | -0.367        |\n",
      "|    explained_variance   | 0.00139       |\n",
      "|    learning_rate        | 0.001         |\n",
      "|    loss                 | 12.1          |\n",
      "|    n_updates            | 136           |\n",
      "|    policy_gradient_loss | -0.000495     |\n",
      "|    value_loss           | 20.3          |\n",
      "-------------------------------------------\n"
     ]
    },
    {
     "name": "stdout",
     "output_type": "stream",
     "text": [
      "------------------------------------------\n",
      "| rollout/                |              |\n",
      "|    ep_len_mean          | 9.92         |\n",
      "|    ep_rew_mean          | 6.92         |\n",
      "| time/                   |              |\n",
      "|    fps                  | 46           |\n",
      "|    iterations           | 30           |\n",
      "|    time_elapsed         | 83           |\n",
      "|    total_timesteps      | 3840         |\n",
      "| train/                  |              |\n",
      "|    approx_kl            | 5.617831e-05 |\n",
      "|    clip_fraction        | 0            |\n",
      "|    clip_range           | 0.2          |\n",
      "|    entropy_loss         | -0.342       |\n",
      "|    explained_variance   | -0.00092     |\n",
      "|    learning_rate        | 0.001        |\n",
      "|    loss                 | 0.442        |\n",
      "|    n_updates            | 138          |\n",
      "|    policy_gradient_loss | -0.000826    |\n",
      "|    value_loss           | 16.1         |\n",
      "------------------------------------------\n"
     ]
    },
    {
     "data": {
      "text/html": [
       "<pre style=\"white-space:pre;overflow-x:auto;line-height:normal;font-family:Menlo,'DejaVu Sans Mono',consolas,'Courier New',monospace\">Episode 400 | Reward:   7.03 | Crash Rate:  0.0%\n",
       "</pre>\n"
      ],
      "text/plain": [
       "Episode 400 | Reward:   7.03 | Crash Rate:  0.0%\n"
      ]
     },
     "metadata": {},
     "output_type": "display_data"
    },
    {
     "name": "stdout",
     "output_type": "stream",
     "text": [
      "------------------------------------------\n",
      "| rollout/                |              |\n",
      "|    ep_len_mean          | 9.92         |\n",
      "|    ep_rew_mean          | 6.94         |\n",
      "| time/                   |              |\n",
      "|    fps                  | 45           |\n",
      "|    iterations           | 31           |\n",
      "|    time_elapsed         | 86           |\n",
      "|    total_timesteps      | 3968         |\n",
      "| train/                  |              |\n",
      "|    approx_kl            | 3.088033e-05 |\n",
      "|    clip_fraction        | 0            |\n",
      "|    clip_range           | 0.2          |\n",
      "|    entropy_loss         | -0.342       |\n",
      "|    explained_variance   | 0.0349       |\n",
      "|    learning_rate        | 0.001        |\n",
      "|    loss                 | 0.124        |\n",
      "|    n_updates            | 140          |\n",
      "|    policy_gradient_loss | -0.000525    |\n",
      "|    value_loss           | 0.553        |\n",
      "------------------------------------------\n"
     ]
    },
    {
     "name": "stdout",
     "output_type": "stream",
     "text": [
      "-------------------------------------------\n",
      "| rollout/                |               |\n",
      "|    ep_len_mean          | 9.91          |\n",
      "|    ep_rew_mean          | 6.89          |\n",
      "| time/                   |               |\n",
      "|    fps                  | 45            |\n",
      "|    iterations           | 32            |\n",
      "|    time_elapsed         | 89            |\n",
      "|    total_timesteps      | 4096          |\n",
      "| train/                  |               |\n",
      "|    approx_kl            | 0.00010974659 |\n",
      "|    clip_fraction        | 0             |\n",
      "|    clip_range           | 0.2           |\n",
      "|    entropy_loss         | -0.332        |\n",
      "|    explained_variance   | 0.0187        |\n",
      "|    learning_rate        | 0.001         |\n",
      "|    loss                 | 0.127         |\n",
      "|    n_updates            | 142           |\n",
      "|    policy_gradient_loss | -0.000451     |\n",
      "|    value_loss           | 0.468         |\n",
      "-------------------------------------------\n"
     ]
    },
    {
     "name": "stdout",
     "output_type": "stream",
     "text": [
      "-------------------------------------------\n",
      "| rollout/                |               |\n",
      "|    ep_len_mean          | 9.92          |\n",
      "|    ep_rew_mean          | 6.91          |\n",
      "| time/                   |               |\n",
      "|    fps                  | 43            |\n",
      "|    iterations           | 33            |\n",
      "|    time_elapsed         | 96            |\n",
      "|    total_timesteps      | 4224          |\n",
      "| train/                  |               |\n",
      "|    approx_kl            | 5.1417388e-05 |\n",
      "|    clip_fraction        | 0             |\n",
      "|    clip_range           | 0.2           |\n",
      "|    entropy_loss         | -0.392        |\n",
      "|    explained_variance   | 0.000919      |\n",
      "|    learning_rate        | 0.001         |\n",
      "|    loss                 | 7.45          |\n",
      "|    n_updates            | 144           |\n",
      "|    policy_gradient_loss | 0.00155       |\n",
      "|    value_loss           | 20.8          |\n",
      "-------------------------------------------\n"
     ]
    },
    {
     "name": "stdout",
     "output_type": "stream",
     "text": [
      "-----------------------------------------\n",
      "| rollout/                |             |\n",
      "|    ep_len_mean          | 9.92        |\n",
      "|    ep_rew_mean          | 6.93        |\n",
      "| time/                   |             |\n",
      "|    fps                  | 42          |\n",
      "|    iterations           | 34          |\n",
      "|    time_elapsed         | 102         |\n",
      "|    total_timesteps      | 4352        |\n",
      "| train/                  |             |\n",
      "|    approx_kl            | 0.000689792 |\n",
      "|    clip_fraction        | 0           |\n",
      "|    clip_range           | 0.2         |\n",
      "|    entropy_loss         | -0.361      |\n",
      "|    explained_variance   | 0.0204      |\n",
      "|    learning_rate        | 0.001       |\n",
      "|    loss                 | 0.175       |\n",
      "|    n_updates            | 146         |\n",
      "|    policy_gradient_loss | -0.000145   |\n",
      "|    value_loss           | 0.551       |\n",
      "-----------------------------------------\n"
     ]
    },
    {
     "name": "stdout",
     "output_type": "stream",
     "text": [
      "-------------------------------------------\n",
      "| rollout/                |               |\n",
      "|    ep_len_mean          | 9.94          |\n",
      "|    ep_rew_mean          | 6.99          |\n",
      "| time/                   |               |\n",
      "|    fps                  | 42            |\n",
      "|    iterations           | 35            |\n",
      "|    time_elapsed         | 105           |\n",
      "|    total_timesteps      | 4480          |\n",
      "| train/                  |               |\n",
      "|    approx_kl            | 0.00016628811 |\n",
      "|    clip_fraction        | 0             |\n",
      "|    clip_range           | 0.2           |\n",
      "|    entropy_loss         | -0.323        |\n",
      "|    explained_variance   | 0.0193        |\n",
      "|    learning_rate        | 0.001         |\n",
      "|    loss                 | 0.1           |\n",
      "|    n_updates            | 148           |\n",
      "|    policy_gradient_loss | -0.00128      |\n",
      "|    value_loss           | 0.394         |\n",
      "-------------------------------------------\n"
     ]
    },
    {
     "name": "stdout",
     "output_type": "stream",
     "text": [
      "-----------------------------------------\n",
      "| rollout/                |             |\n",
      "|    ep_len_mean          | 9.94        |\n",
      "|    ep_rew_mean          | 7.02        |\n",
      "| time/                   |             |\n",
      "|    fps                  | 42          |\n",
      "|    iterations           | 36          |\n",
      "|    time_elapsed         | 108         |\n",
      "|    total_timesteps      | 4608        |\n",
      "| train/                  |             |\n",
      "|    approx_kl            | 8.51932e-05 |\n",
      "|    clip_fraction        | 0           |\n",
      "|    clip_range           | 0.2         |\n",
      "|    entropy_loss         | -0.301      |\n",
      "|    explained_variance   | -0.00012    |\n",
      "|    learning_rate        | 0.001       |\n",
      "|    loss                 | 20.6        |\n",
      "|    n_updates            | 150         |\n",
      "|    policy_gradient_loss | -6.42e-06   |\n",
      "|    value_loss           | 22.4        |\n",
      "-----------------------------------------\n"
     ]
    },
    {
     "name": "stdout",
     "output_type": "stream",
     "text": [
      "------------------------------------------\n",
      "| rollout/                |              |\n",
      "|    ep_len_mean          | 9.99         |\n",
      "|    ep_rew_mean          | 7.06         |\n",
      "| time/                   |              |\n",
      "|    fps                  | 42           |\n",
      "|    iterations           | 37           |\n",
      "|    time_elapsed         | 111          |\n",
      "|    total_timesteps      | 4736         |\n",
      "| train/                  |              |\n",
      "|    approx_kl            | 2.228422e-05 |\n",
      "|    clip_fraction        | 0            |\n",
      "|    clip_range           | 0.2          |\n",
      "|    entropy_loss         | -0.335       |\n",
      "|    explained_variance   | 0.0272       |\n",
      "|    learning_rate        | 0.001        |\n",
      "|    loss                 | 0.139        |\n",
      "|    n_updates            | 152          |\n",
      "|    policy_gradient_loss | 0.000575     |\n",
      "|    value_loss           | 0.455        |\n",
      "------------------------------------------\n"
     ]
    },
    {
     "name": "stdout",
     "output_type": "stream",
     "text": [
      "-------------------------------------------\n",
      "| rollout/                |               |\n",
      "|    ep_len_mean          | 9.99          |\n",
      "|    ep_rew_mean          | 7.06          |\n",
      "| time/                   |               |\n",
      "|    fps                  | 42            |\n",
      "|    iterations           | 38            |\n",
      "|    time_elapsed         | 114           |\n",
      "|    total_timesteps      | 4864          |\n",
      "| train/                  |               |\n",
      "|    approx_kl            | 0.00024924288 |\n",
      "|    clip_fraction        | 0             |\n",
      "|    clip_range           | 0.2           |\n",
      "|    entropy_loss         | -0.32         |\n",
      "|    explained_variance   | 0.0231        |\n",
      "|    learning_rate        | 0.001         |\n",
      "|    loss                 | 0.0681        |\n",
      "|    n_updates            | 154           |\n",
      "|    policy_gradient_loss | -0.000114     |\n",
      "|    value_loss           | 0.258         |\n",
      "-------------------------------------------\n"
     ]
    },
    {
     "data": {
      "text/html": [
       "<pre style=\"white-space:pre;overflow-x:auto;line-height:normal;font-family:Menlo,'DejaVu Sans Mono',consolas,'Courier New',monospace\">Episode 500 | Reward:   7.09 | Crash Rate:  0.0%\n",
       "</pre>\n"
      ],
      "text/plain": [
       "Episode 500 | Reward:   7.09 | Crash Rate:  0.0%\n"
      ]
     },
     "metadata": {},
     "output_type": "display_data"
    },
    {
     "name": "stdout",
     "output_type": "stream",
     "text": [
      "-------------------------------------------\n",
      "| rollout/                |               |\n",
      "|    ep_len_mean          | 9.98          |\n",
      "|    ep_rew_mean          | 7.05          |\n",
      "| time/                   |               |\n",
      "|    fps                  | 42            |\n",
      "|    iterations           | 39            |\n",
      "|    time_elapsed         | 117           |\n",
      "|    total_timesteps      | 4992          |\n",
      "| train/                  |               |\n",
      "|    approx_kl            | 0.00049116276 |\n",
      "|    clip_fraction        | 0             |\n",
      "|    clip_range           | 0.2           |\n",
      "|    entropy_loss         | -0.308        |\n",
      "|    explained_variance   | 0.0262        |\n",
      "|    learning_rate        | 0.001         |\n",
      "|    loss                 | 0.0171        |\n",
      "|    n_updates            | 156           |\n",
      "|    policy_gradient_loss | -0.00207      |\n",
      "|    value_loss           | 0.21          |\n",
      "-------------------------------------------\n"
     ]
    },
    {
     "name": "stdout",
     "output_type": "stream",
     "text": [
      "------------------------------------------\n",
      "| rollout/                |              |\n",
      "|    ep_len_mean          | 9.99         |\n",
      "|    ep_rew_mean          | 7.06         |\n",
      "| time/                   |              |\n",
      "|    fps                  | 42           |\n",
      "|    iterations           | 40           |\n",
      "|    time_elapsed         | 120          |\n",
      "|    total_timesteps      | 5120         |\n",
      "| train/                  |              |\n",
      "|    approx_kl            | 0.0040250006 |\n",
      "|    clip_fraction        | 0.0469       |\n",
      "|    clip_range           | 0.2          |\n",
      "|    entropy_loss         | -0.232       |\n",
      "|    explained_variance   | 0.000495     |\n",
      "|    learning_rate        | 0.001        |\n",
      "|    loss                 | 0.133        |\n",
      "|    n_updates            | 158          |\n",
      "|    policy_gradient_loss | 0.000633     |\n",
      "|    value_loss           | 24.7         |\n",
      "------------------------------------------\n"
     ]
    },
    {
     "data": {
      "text/html": [
       "<pre style=\"white-space:pre;overflow-x:auto;line-height:normal;font-family:Menlo,'DejaVu Sans Mono',consolas,'Courier New',monospace\"></pre>\n"
      ],
      "text/plain": []
     },
     "metadata": {},
     "output_type": "display_data"
    },
    {
     "data": {
      "text/plain": [
       "<stable_baselines3.ppo.ppo.PPO at 0x23f7a3cf790>"
      ]
     },
     "execution_count": 17,
     "metadata": {},
     "output_type": "execute_result"
    }
   ],
   "source": [
    "callback = QuickMetricsCallback()\n",
    "    \n",
    "model.learn(total_timesteps=5000,callback=callback,progress_bar=True)"
   ]
  },
  {
   "cell_type": "code",
   "execution_count": 18,
   "id": "5ceb6adc",
   "metadata": {},
   "outputs": [
    {
     "data": {
      "image/png": "[encoded data removed]",
      "text/plain": [
       "<Figure size 1000x300 with 1 Axes>"
      ]
     },
     "metadata": {},
     "output_type": "display_data"
    }
   ],
   "source": [
    "plt.figure(figsize=(10, 3))\n",
    "plt.plot(callback.episode_rewards, 'b-', alpha=0.7)\n",
    "plt.title('Episode Rewards')\n",
    "plt.xlabel('Episode')\n",
    "plt.ylabel('Reward')\n",
    "plt.grid(True)\n",
    "plt.tight_layout()\n",
    "plt.show()"
   ]
  },
  {
   "cell_type": "code",
   "execution_count": 20,
   "id": "0af327c0",
   "metadata": {},
   "outputs": [
    {
     "name": "stdout",
     "output_type": "stream",
     "text": [
      "TRAINING SUMMARY\n",
      "Episodes completed: 519\n",
      "Mean reward: 6.95\n",
      "Final reward (last 2): 7.03\n",
      "Crash rate: 6.4%\n",
      "Mean episode length: 9.8\n"
     ]
    }
   ],
   "source": [
    "print(f\"TRAINING SUMMARY\")\n",
    "print(f\"Episodes completed: {len(callback.episode_rewards)}\")\n",
    "print(f\"Mean reward: {np.mean(callback.episode_rewards):.2f}\")\n",
    "print(f\"Final reward (last 2): {np.mean(callback.episode_rewards[-2:]):.2f}\")\n",
    "print(f\"Crash rate: {np.mean(callback.episode_crashes)*100:.1f}%\")\n",
    "print(f\"Mean episode length: {np.mean(callback.episode_lengths):.1f}\")"
   ]
  },
  {
   "cell_type": "code",
   "execution_count": null,
   "id": "6890122b",
   "metadata": {},
   "outputs": [],
   "source": []
  }
 ],
 "metadata": {
  "kernelspec": {
   "display_name": "torch_env",
   "language": "python",
   "name": "python3"
  },
  "language_info": {
   "codemirror_mode": {
    "name": "ipython",
    "version": 3
   },
   "file_extension": ".py",
   "mimetype": "text/x-python",
   "name": "python",
   "nbconvert_exporter": "python",
   "pygments_lexer": "ipython3",
   "version": "3.11.13"
  }
 },
 "nbformat": 4,
 "nbformat_minor": 5
}
